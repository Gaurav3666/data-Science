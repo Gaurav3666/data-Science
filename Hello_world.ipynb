{
  "nbformat": 4,
  "nbformat_minor": 0,
  "metadata": {
    "colab": {
      "provenance": [],
      "authorship_tag": "ABX9TyPF0Z+Kax1GR8cepTylKTqL",
      "include_colab_link": true
    },
    "kernelspec": {
      "name": "python3",
      "display_name": "Python 3"
    },
    "language_info": {
      "name": "python"
    }
  },
  "cells": [
    {
      "cell_type": "markdown",
      "metadata": {
        "id": "view-in-github",
        "colab_type": "text"
      },
      "source": [
        "<a href=\"https://colab.research.google.com/github/Gaurav3666/data-Science/blob/main/Hello_world.ipynb\" target=\"_parent\"><img src=\"https://colab.research.google.com/assets/colab-badge.svg\" alt=\"Open In Colab\"/></a>"
      ]
    },
    {
      "cell_type": "code",
      "execution_count": null,
      "metadata": {
        "colab": {
          "base_uri": "https://localhost:8080/"
        },
        "id": "onNCSXAlwnCv",
        "outputId": "2acdc278-dfe4-488b-8765-1881a7a2d031"
      },
      "outputs": [
        {
          "output_type": "stream",
          "name": "stdout",
          "text": [
            "hello world\n"
          ]
        }
      ],
      "source": [
        "# i have made\n",
        "\"\"\" My name is gaurav\n",
        "i am pursuing data science course\n",
        "i had written my first code\"\"\"\n",
        "# my first code\n",
        "print(\"hello world\")"
      ]
    },
    {
      "cell_type": "code",
      "source": [
        "#NAME\n",
        "print(\"my name is gaurav\")\n",
        "#AGE\n",
        "print(\"i am 19 years old\")"
      ],
      "metadata": {
        "colab": {
          "base_uri": "https://localhost:8080/"
        },
        "id": "PqKCzELQ5MkQ",
        "outputId": "631b8a1a-1cbd-441b-d0e2-38f63e337073"
      },
      "execution_count": null,
      "outputs": [
        {
          "output_type": "stream",
          "name": "stdout",
          "text": [
            "my name is gaurav\n",
            "i am 19 years old\n"
          ]
        }
      ]
    },
    {
      "cell_type": "code",
      "source": [
        "print(\"                                      *  BIO DATA  *                                                 \")\n",
        "\n",
        "\n",
        "\n",
        "print(\"                                   * PERSNOL INFORMATION *                                         \")\n",
        "my_name=\"gaurav\"\n",
        "print(my_name)\n",
        "my_age=\"19\"\n",
        "print(my_age)\n",
        "gender=\"male\"\n",
        "print(gender)\n",
        "nationality=\"nationality-indian\"\n",
        "print(nationality)\n",
        "religion=\"Hindu\"\n",
        "print(religion)\n",
        "language=\"Fluency in - english,hindi\"\n",
        "print(language)\n",
        "blood_group=\"blood group-O+ive\"\n",
        "print(blood_group)\n",
        "father_name=\"father name-arun kumar\"\n",
        "print(father_name)\n",
        "dob=\"dob-04/03/2007\"\n",
        "print(dob)\n",
        "print(\"                                 * EDUCATION QUALIFICATIONS *                                        \")\n",
        "print(\"EDUCATION QUALIFICATION-BCOM\")\n",
        "print(\"CURRENTLY PURSUING-DATA SCIENCE COURSE CBITSS\")\n",
        "print(\"FLUENCY IN - ENGLISH ,HINDI\")\n",
        "print(\"ADDRESS-CHANDIGARH\")\n",
        "print(\"EMAIL ID-gauravtk006@gmail.com\")\n",
        "print(\"CONTACT-6280172709\")"
      ],
      "metadata": {
        "colab": {
          "base_uri": "https://localhost:8080/"
        },
        "id": "bG2IJDqN7cUY",
        "outputId": "cfe5d9b7-2314-4fe2-921e-032f4b74c1fe"
      },
      "execution_count": null,
      "outputs": [
        {
          "output_type": "stream",
          "name": "stdout",
          "text": [
            "                                      *  BIO DATA  *                                                 \n",
            "                                   * PERSNOL INFORMATION *                                         \n",
            "gaurav\n",
            "19\n",
            "male\n",
            "nationality-indian\n",
            "Hindu\n",
            "Fluency in - english,hindi\n",
            "blood group-O+ive\n",
            "father name-arun kumar\n",
            "dob-04/03/2007\n",
            "                                 * EDUCATION QUALIFICATIONS *                                        \n",
            "EDUCATION QUALIFICATION-BCOM\n",
            "CURRENTLY PURSUING-DATA SCIENCE COURSE CBITSS\n",
            "FLUENCY IN - ENGLISH ,HINDI\n",
            "ADDRESS-CHANDIGARH\n",
            "EMAIL ID-gauravtk006@gmail.com\n",
            "CONTACT-6280172709\n"
          ]
        }
      ]
    },
    {
      "cell_type": "code",
      "source": [
        "a=(10)\n",
        "print(\" i am trying to print a \",a)\n",
        "b=(19)\n",
        "print(b)\n",
        "\n"
      ],
      "metadata": {
        "colab": {
          "base_uri": "https://localhost:8080/"
        },
        "id": "dOZvanBcF2Z9",
        "outputId": "390a0f03-83fe-4e99-8051-af2284b2fe21"
      },
      "execution_count": null,
      "outputs": [
        {
          "output_type": "stream",
          "name": "stdout",
          "text": [
            " i am trying to print a  10\n",
            "19\n"
          ]
        }
      ]
    },
    {
      "cell_type": "code",
      "source": [
        "print(\"*************************************************************  Menu List  *********************************************************************************************\")\n",
        "print(\"                Beverages                      \")\n",
        "print(\"Vanilla shake   -     70\")\n",
        "print(\"strawberry shake  -    90\")\n",
        "print(\"Chocklate shake   -    50\")\n",
        "print(\"Oreo shake     -       85\")\n",
        "print(\"Mango shake     -      70\")\n",
        "print(\"banana shake    -      50\")\n",
        "\n",
        "print(\"                                                              Apetizers                                                                                        \")\n",
        "print(\"                                                      Fruit salad   -   160\")\n",
        "print(\"                                                       Sandwich   -   210\")\n",
        "print(\"                                                      French fries   -   160\")\n",
        "print(\"                                                         Nuggets   -   260\")\n",
        "print(\"                                                          Matcha   -   149\")\n",
        "print(\"                                                                                                             Main Course\")\n",
        "print(\"                                                                                                       Chole bhature   -   160\")\n",
        "print(\"                                                                                                     Chicken biryani   -   350\")\n",
        "print(\"                                                                                                        Matar paneer   -   180\")\n",
        "print(\"                                                                                                             Chapati   -   30\")\n",
        "print(\"                                                                                                           Dal makhni  -   140\")"
      ],
      "metadata": {
        "colab": {
          "base_uri": "https://localhost:8080/"
        },
        "id": "PhUM9oujS9gH",
        "outputId": "83623275-e2d5-4e81-bca2-4169e35bf8d6"
      },
      "execution_count": null,
      "outputs": [
        {
          "output_type": "stream",
          "name": "stdout",
          "text": [
            "*************************************************************  Menu List  *********************************************************************************************\n",
            "                Beverages                      \n",
            "Vanilla shake   -     70\n",
            "strawberry shake  -    90\n",
            "Chocklate shake   -    50\n",
            "Oreo shake     -       85\n",
            "Mango shake     -      70\n",
            "banana shake    -      50\n",
            "                                                              Apetizers                                                                                        \n",
            "                                                      Fruit salad   -   160\n",
            "                                                       Sandwich   -   210\n",
            "                                                      French fries   -   160\n",
            "                                                         Nuggets   -   260\n",
            "                                                          Matcha   -   149\n",
            "                                                                                                             Main Course\n",
            "                                                                                                       Chole bhature   -   160\n",
            "                                                                                                     Chicken biryani   -   350\n",
            "                                                                                                     Matar paneer   -   180\n",
            "                                                                                                        Chapati   -   30\n",
            "                                                                                                         Dal makhni  -   140\n"
          ]
        }
      ]
    },
    {
      "cell_type": "code",
      "source": [
        "print(\"<<<<<<<<<<<<<<<<<<<<<<<<<<<<<<<<<<<<<<<<<<<<<<<<<<<<<<<<<<<<<<<<<<<<<<MOVIES DETAILS>>>>>>>>>>>>>>>>>>>>>>>>>>>>>>>>>>>>>>>>>>>>>>>>>>>>>>>>>>>>>>>>>>>>>>>>>>>>>>>>>>>\")\n",
        "print(\"   MOVIE TITLE                           Director                        GENRE                               MPA RATING   \")\n",
        "print(\"   Brahmastra                            Ayan Mukerji                   Action/Fantasy                         5.6                 \")\n",
        "print(\"   Hera pheri                             Priyadarshan                   Comedy                                8.5                              \")\n",
        "print(\"    Welcome                               Anees Bazmee                  Action/Comedy                          7.1\")\n",
        "print(\"    Jumanji                               Jake kasdan                   Adventure/Comedy                        7\")\n",
        "Movie_name1=\"     Bahubali                            S. S. Rajamouli               Action/Fantasy                           8.9\"\n",
        "print(Movie_name1)\n",
        "War=\"       War                                Siddharth Anand             Action/Thriller                            8.5\"\n",
        "print(War)\n",
        "War_2=\"     War 2                                 Siddharth Anand              Action/Thriller                          8.9\"\n",
        "print(War_2)"
      ],
      "metadata": {
        "colab": {
          "base_uri": "https://localhost:8080/"
        },
        "id": "MztuTo1KliZa",
        "outputId": "a6ef9f81-ecc4-4a9e-a1ce-480e6d56ee1e"
      },
      "execution_count": null,
      "outputs": [
        {
          "output_type": "stream",
          "name": "stdout",
          "text": [
            "<<<<<<<<<<<<<<<<<<<<<<<<<<<<<<<<<<<<<<<<<<<<<<<<<<<<<<<<<<<<<<<<<<<<<<MOVIES DETAILS>>>>>>>>>>>>>>>>>>>>>>>>>>>>>>>>>>>>>>>>>>>>>>>>>>>>>>>>>>>>>>>>>>>>>>>>>>>>>>>>>>>\n",
            "   MOVIE TITLE                           Director                        GENRE                               MPA RATING   \n",
            "   Brahmastra                            Ayan Mukerji                   Action/Fantasy                         5.6                 \n",
            "   Hera pheri                             Priyadarshan                   Comedy                                8.5                              \n",
            "    Welcome                               Anees Bazmee                  Action/Comedy                          7.1\n",
            "    Jumanji                               Jake kasdan                   Adventure/Comedy                        7\n",
            "     Bahubali                            S. S. Rajamouli               Action/Fantasy                           8.9\n",
            "       War                                Siddharth Anand             Action/Thriller                            8.5\n",
            "     War 2                                 Siddharth Anand              Action/Thriller                          8.9\n"
          ]
        }
      ]
    },
    {
      "cell_type": "code",
      "source": [
        "name = str(input(\"What is your name \"))\n",
        "age = int(input(\"What is your age\"))\n",
        "Height = float(input(\"What is your height\"))\n",
        "print(name)\n",
        "print(age)\n",
        "print(Height)"
      ],
      "metadata": {
        "colab": {
          "base_uri": "https://localhost:8080/"
        },
        "id": "zvNuykKe1gEr",
        "outputId": "9689413c-2bd5-4908-dc67-9a4083657c5f"
      },
      "execution_count": null,
      "outputs": [
        {
          "output_type": "stream",
          "name": "stdout",
          "text": [
            "What is your name Gaurav\n",
            "What is your age19\n",
            "What is your height5.8\n",
            "Gaurav\n",
            "19\n",
            "5.8\n"
          ]
        }
      ]
    },
    {
      "cell_type": "code",
      "source": [
        "principle_ammount = int(input(\"What is principle ammount :\"))\n",
        "rate = int(input(\"what is rate :\"))\n",
        "time = int(input(\"what is TIME :\"))\n",
        "SI = principle_ammount*rate*time/100\n",
        "print(SI)\n",
        "Month = (input(\"Please enter the month\"))\n",
        "Days =  int(input(\"Please enter the days\"))\n",
        "Year = int(input(\"Please enetr the year\"))\n",
        "if Month == \"January\" or Month == \"March\" or Month == \"May\" or Month == \"July\" or Month == \"August\" or Month == \"October\" or Month == \"December\":\n",
        "  Month_in_days = 31\n",
        "elif Month == \"April\" or Month== \"June\" or Month == \"September\" or Month == \"November\":\n",
        "  Month_in_days = 30\n",
        "else:\n",
        "  if Year%4==0 and Year%100!=0 or Year%400==0:\n",
        "    Month_in_days = 29\n",
        "  else:\n",
        "    Month_in_days = 28\n",
        "    print(Month_in_days)\n",
        "T1 = Days/Month_in_days\n",
        "print(\"Time 1\")\n",
        "print(T1)\n",
        "S11 = principle_ammount*rate*T1/100\n",
        "print(\"Simple interest of days\")\n",
        "print(S11)\n",
        "Total_ammount_payable = principle_ammount+SI+S11\n",
        "print(\"total payable ammount\")\n",
        "print(Total_ammount_payable)\n"
      ],
      "metadata": {
        "id": "FduRRTOD2rz-",
        "colab": {
          "base_uri": "https://localhost:8080/"
        },
        "outputId": "8ed1a89b-0f36-4e55-eb22-a82346901971"
      },
      "execution_count": null,
      "outputs": [
        {
          "output_type": "stream",
          "name": "stdout",
          "text": [
            "What is principle ammount :1000\n",
            "what is rate :10\n",
            "what is TIME :3\n",
            "300.0\n",
            "Please enter the monthJanuary\n",
            "Please enter the days21\n",
            "Please enetr the year2024\n",
            "Time 1\n",
            "0.6774193548387096\n",
            "Simple interest of days\n",
            "67.74193548387096\n",
            "total payable ammount\n",
            "1367.741935483871\n"
          ]
        }
      ]
    },
    {
      "cell_type": "code",
      "source": [],
      "metadata": {
        "id": "au3asjrFleEJ"
      },
      "execution_count": null,
      "outputs": []
    },
    {
      "cell_type": "code",
      "source": [],
      "metadata": {
        "id": "TkfYvuQzDig5"
      },
      "execution_count": null,
      "outputs": []
    },
    {
      "cell_type": "code",
      "source": [
        "#control flow\n",
        "Gender = (input(\"what is your gender\"))\n",
        "if Gender == \"male\":\n",
        "  print(\"hotel a\")\n",
        "else:\n",
        "  print(\"hotel b\")"
      ],
      "metadata": {
        "colab": {
          "base_uri": "https://localhost:8080/"
        },
        "id": "7FVqcMG-A2om",
        "outputId": "30bc5b2a-5f4f-4fdb-a2b9-b635ae986f88"
      },
      "execution_count": null,
      "outputs": [
        {
          "output_type": "stream",
          "name": "stdout",
          "text": [
            "what is your gendermale\n",
            "hotel a\n"
          ]
        }
      ]
    },
    {
      "cell_type": "code",
      "source": [
        "#control flow\n",
        "Gender = (input(\"what is your gender\"))\n",
        "Age = int(input(\"What is your age\"))\n",
        "if Gender == \"male\":\n",
        "  print(\"hotel a\")\n",
        "if Age == \">=30\":\n",
        "  print(\"block a\")\n",
        "\n",
        "elif Gender == \"male\" and Age>=31:\n",
        "  print(\"hotel a block b\")\n",
        "elif Gender ==\"female\" and Age<=30:\n",
        " print(\"hotel b nlock a \")\n",
        "elif Gender == \"female\" and Age>=31:\n",
        "  print(\"hotel b block b\")\n",
        "else:\n",
        "  print(\"invalid\")"
      ],
      "metadata": {
        "colab": {
          "base_uri": "https://localhost:8080/"
        },
        "id": "vfPCrz3GGgtH",
        "outputId": "12823e74-e858-49db-9a4b-4fc9f072c48f"
      },
      "execution_count": null,
      "outputs": [
        {
          "output_type": "stream",
          "name": "stdout",
          "text": [
            "what is your gendermale\n",
            "What is your age31\n",
            "hotel a block b\n"
          ]
        }
      ]
    },
    {
      "cell_type": "code",
      "source": [
        "number1 = int(input(\"what is number 1:\"))\n",
        "number2 = int(input(\"what is number 2:\"))\n",
        "c=number1/number2\n",
        "print(\"remainder is:\",number1%number2)\n",
        "print(\"Quotient is\")\n",
        "print(c)\n"
      ],
      "metadata": {
        "colab": {
          "base_uri": "https://localhost:8080/"
        },
        "id": "DrAXkFfjJnRT",
        "outputId": "cd91f599-83f7-4789-f58e-6e67c7d2601a"
      },
      "execution_count": null,
      "outputs": [
        {
          "output_type": "stream",
          "name": "stdout",
          "text": [
            "what is number 1:20\n",
            "what is number 2:10\n",
            "remainder is: 0\n",
            "Quotient is\n",
            "2.0\n"
          ]
        }
      ]
    },
    {
      "cell_type": "code",
      "source": [
        "Number = int(input(\"what is the number : \"))\n",
        "if Number%7==0 and Number%3==0:\n",
        "   print(\"yes\")\n",
        "else:\n",
        "  print(\"No\")"
      ],
      "metadata": {
        "colab": {
          "base_uri": "https://localhost:8080/"
        },
        "id": "HqogEeGgOSWn",
        "outputId": "d3978056-6a15-4999-d8ab-40a4f3eb0459"
      },
      "execution_count": null,
      "outputs": [
        {
          "output_type": "stream",
          "name": "stdout",
          "text": [
            "what is the number : 30\n",
            "No\n"
          ]
        }
      ]
    },
    {
      "cell_type": "code",
      "source": [],
      "metadata": {
        "id": "cADPiIDd0rWf"
      },
      "execution_count": null,
      "outputs": []
    },
    {
      "cell_type": "code",
      "source": [
        "Number = float(input(\"please enter your marks : \"))\n",
        "if Number>=90:\n",
        "  print(\" Grade A+\")\n",
        "elif Number>=80 and Number<90:\n",
        "  print(\" Grade A\")\n",
        "elif Number>=70 and Number<80:\n",
        "  print(\" Grade B+\")\n",
        "elif Number>=60 and Number<70:\n",
        "  print(\" Grade B\")\n",
        "elif Number>=33 and Number<60:\n",
        "  print(\" Grade C\")\n",
        "else:\n",
        "  print(\"Fail\")\n"
      ],
      "metadata": {
        "colab": {
          "base_uri": "https://localhost:8080/"
        },
        "id": "oISbcRwD0tEL",
        "outputId": "a59fc454-6a6f-4c01-869b-bb28a36d0431"
      },
      "execution_count": null,
      "outputs": [
        {
          "output_type": "stream",
          "name": "stdout",
          "text": [
            "please enter your marks : 85\n",
            " Grade A\n"
          ]
        }
      ]
    },
    {
      "cell_type": "code",
      "source": [
        "id = input(\"Enter your username : \")\n",
        "password = input(\"enter your password\")\n",
        "if id == \"Gauravtk006@gmail.com\" and password == \"Qwerty@123\":\n",
        "  print(\"Login succesfull\")\n",
        "else:\n",
        "  print(\"invalid id and password\")\n",
        "\n"
      ],
      "metadata": {
        "colab": {
          "base_uri": "https://localhost:8080/"
        },
        "id": "cn8JkVndMCgM",
        "outputId": "4be4f1e0-67b5-44b6-f046-3986a12bc895"
      },
      "execution_count": null,
      "outputs": [
        {
          "output_type": "stream",
          "name": "stdout",
          "text": [
            "Enter your usernameGauravtk006@gmail.com\n",
            "enter your passwordQwerty@123\n",
            "Login succesfull\n"
          ]
        }
      ]
    },
    {
      "cell_type": "code",
      "source": [
        "A= int(input(\"please enter the value of A :\"))\n",
        "B= int(input(\"please enter the value of B :\"))\n",
        "if A>B:\n",
        "  print(\"A grater then B\")\n",
        "if B>A:\n",
        "  print(\"B is greater then A\")\n"
      ],
      "metadata": {
        "colab": {
          "base_uri": "https://localhost:8080/"
        },
        "id": "ycqK4I1qOSRS",
        "outputId": "1add5915-cdff-4d3a-ce1d-709f5c0a19f4"
      },
      "execution_count": null,
      "outputs": [
        {
          "output_type": "stream",
          "name": "stdout",
          "text": [
            "please enter the value of A :10\n",
            "please enter the value of B :5\n",
            "A grater then B\n"
          ]
        }
      ]
    },
    {
      "cell_type": "code",
      "source": [
        "A,B,C = 10,20,30\n",
        "if A>B and A>C:\n",
        "  print(\"A is greater than b and c \")\n",
        "if B>A and B>C:\n",
        "  print(\"B is greater than a and c\")\n",
        "else:\n",
        "  print(\"c is greater than a and b\")\n",
        "\n"
      ],
      "metadata": {
        "colab": {
          "base_uri": "https://localhost:8080/"
        },
        "id": "mAbF95I_RQ6C",
        "outputId": "3ffe4899-b0eb-40e6-b0f6-34541b9e4124"
      },
      "execution_count": null,
      "outputs": [
        {
          "output_type": "stream",
          "name": "stdout",
          "text": [
            "c is greater than a and b\n"
          ]
        }
      ]
    },
    {
      "cell_type": "code",
      "source": [
        "Year = int(input(\"Please enter the year : \"))\n",
        "if Year%4==0 and Year%100!=0 or Year%400==0:\n",
        "  print(\"Leap Year\")\n",
        "else:\n",
        "  print(\"Not a leap year\")"
      ],
      "metadata": {
        "colab": {
          "base_uri": "https://localhost:8080/"
        },
        "id": "YejBimotUaKn",
        "outputId": "a228ed00-225d-4532-db19-01bd803a5b1a"
      },
      "execution_count": null,
      "outputs": [
        {
          "output_type": "stream",
          "name": "stdout",
          "text": [
            "Please enter the year : 2024\n",
            "Leap Year\n"
          ]
        }
      ]
    },
    {
      "cell_type": "code",
      "source": [
        "year = int(input(\"please enter the year\"))\n",
        "if year%4==0:\n",
        "  print(\"leap year\")\n",
        "elif year%100!=0:\n",
        "  print(\"Leap year\")\n",
        "elif year%400==0:\n",
        "  print(\"leap year\")\n",
        "else:\n",
        "  print(\"not a leap year\")"
      ],
      "metadata": {
        "colab": {
          "base_uri": "https://localhost:8080/"
        },
        "id": "eQ245maqYN-_",
        "outputId": "3d34962f-01f0-4eeb-9819-14ae2417b6b3"
      },
      "execution_count": null,
      "outputs": [
        {
          "output_type": "stream",
          "name": "stdout",
          "text": [
            "please enter the year2100\n",
            "leap year\n"
          ]
        }
      ]
    },
    {
      "cell_type": "code",
      "source": [
        "# name = \"Gaurav\"\n",
        "#for i in name:\n",
        " # print(i)\n",
        " # if i == \"v\":\n",
        "  #  print(\"this is something special\")\n",
        "for k in range(0,11):\n",
        "  print(k)"
      ],
      "metadata": {
        "id": "OQODzYyOfKGP",
        "colab": {
          "base_uri": "https://localhost:8080/"
        },
        "outputId": "02b42724-a327-43e7-a1fa-f150e95a7c1a"
      },
      "execution_count": null,
      "outputs": [
        {
          "output_type": "stream",
          "name": "stdout",
          "text": [
            "0\n",
            "1\n",
            "2\n",
            "3\n",
            "4\n",
            "5\n",
            "6\n",
            "7\n",
            "8\n",
            "9\n",
            "10\n"
          ]
        }
      ]
    },
    {
      "cell_type": "code",
      "source": [
        "Product_1 = input(\"please enter the product name :\")\n",
        "Product_2 = input(\"please enter the product name :\")\n",
        "Price_1 = int(input(\"please enter the price of product 1 :\"))\n",
        "Price_2 = int(input(\"please enter the price of product 2 :\"))\n",
        "Discount_1 = Price_1*10/100\n",
        "Discount_2 = Price_2*10/100\n",
        "Price_after_discount_1 = Price_1-Discount_1\n",
        "Price_after_discount_2 = Price_2-Discount_2\n",
        "print(\"Price of product 1 after discount\" ,Price_after_discount_1)\n",
        "print(\"Price of product 2 after discount\" ,Price_after_discount_2)\n",
        "Price = Price_after_discount_1+Price_after_discount_2\n",
        "print( \"Total price after discount\" ,Price)\n",
        "print(\"\")\n",
        "print(\"Login OR Signup\")\n",
        "Mobile_Number = int(input(\"Please enter the mobile number :\"))\n",
        "Otp = int(input(\"Please enter the otp\"))\n",
        "print(\"Login succesfull\")\n",
        "Adress = (input(\"Please enter the adddess\"))\n",
        "print(\"Coupon Code\")\n",
        "Coupon_Code = input(\"Please enter the coupon code\")\n",
        "if Coupon_Code == \"GAURAV4\":\n",
        "  print(\"Coupon code accepted\")\n",
        "  discount = Price*10/100\n",
        "  Grand_total = Price-discount\n",
        "  print(\"Grand total\" ,Grand_total)\n",
        "  print(\"Thank you for shopping\")\n",
        "else:\n",
        "    print(\"Coupon code invalid\")\n",
        "    print(\"Grand total\" , Price)\n",
        "    print(\"Thanks for shopping\")"
      ],
      "metadata": {
        "id": "nbenoVzwVsjq",
        "colab": {
          "base_uri": "https://localhost:8080/"
        },
        "outputId": "e5689244-86dc-4b28-988a-c3d0394e3433"
      },
      "execution_count": 7,
      "outputs": [
        {
          "output_type": "stream",
          "name": "stdout",
          "text": [
            "please enter the product name :ggfd\n",
            "please enter the product name :dfdf\n",
            "please enter the price of product 1 :5695\n",
            "please enter the price of product 2 :3562\n",
            "Price of product 1 after discount 5125.5\n",
            "Price of product 2 after discount 3205.8\n",
            "Total price after discount 8331.3\n",
            "\n",
            "Login OR Signup\n",
            "Please enter the mobile number :6543214569\n",
            "Please enter the otp3652\n",
            "Login succesfull\n",
            "Please enter the adddessdaris chd\n",
            "Coupon Code\n",
            "Please enter the coupon codefgfgf\n",
            "Coupon code invalid\n",
            "Grand total 8331.3\n",
            "Thanks for shopping\n"
          ]
        }
      ]
    },
    {
      "cell_type": "code",
      "source": [],
      "metadata": {
        "id": "BCmv-U1n8z4q"
      },
      "execution_count": null,
      "outputs": []
    }
  ]
}