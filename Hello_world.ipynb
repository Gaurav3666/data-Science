{
  "nbformat": 4,
  "nbformat_minor": 0,
  "metadata": {
    "colab": {
      "provenance": [],
      "authorship_tag": "ABX9TyOZZn94G4MG5VA+k6FiUbju",
      "include_colab_link": true
    },
    "kernelspec": {
      "name": "python3",
      "display_name": "Python 3"
    },
    "language_info": {
      "name": "python"
    }
  },
  "cells": [
    {
      "cell_type": "markdown",
      "metadata": {
        "id": "view-in-github",
        "colab_type": "text"
      },
      "source": [
        "<a href=\"https://colab.research.google.com/github/Gaurav3666/data-Science/blob/main/Hello_world.ipynb\" target=\"_parent\"><img src=\"https://colab.research.google.com/assets/colab-badge.svg\" alt=\"Open In Colab\"/></a>"
      ]
    },
    {
      "cell_type": "code",
      "execution_count": null,
      "metadata": {
        "colab": {
          "base_uri": "https://localhost:8080/"
        },
        "id": "onNCSXAlwnCv",
        "outputId": "2acdc278-dfe4-488b-8765-1881a7a2d031"
      },
      "outputs": [
        {
          "output_type": "stream",
          "name": "stdout",
          "text": [
            "hello world\n"
          ]
        }
      ],
      "source": [
        "# i have made\n",
        "\"\"\" My name is gaurav\n",
        "i am pursuing data science course\n",
        "i had written my first code\"\"\"\n",
        "# my first code\n",
        "print(\"hello world\")"
      ]
    },
    {
      "cell_type": "code",
      "source": [
        "#NAME\n",
        "print(\"my name is gaurav\")\n",
        "#AGE\n",
        "print(\"i am 19 years old\")"
      ],
      "metadata": {
        "colab": {
          "base_uri": "https://localhost:8080/"
        },
        "id": "PqKCzELQ5MkQ",
        "outputId": "631b8a1a-1cbd-441b-d0e2-38f63e337073"
      },
      "execution_count": null,
      "outputs": [
        {
          "output_type": "stream",
          "name": "stdout",
          "text": [
            "my name is gaurav\n",
            "i am 19 years old\n"
          ]
        }
      ]
    },
    {
      "cell_type": "code",
      "source": [
        "print(\"                                      *  BIO DATA  *                                                 \")\n",
        "\n",
        "\n",
        "\n",
        "print(\"                                   * PERSNOL INFORMATION *                                         \")\n",
        "my_name=\"gaurav\"\n",
        "print(my_name)\n",
        "my_age=\"19\"\n",
        "print(my_age)\n",
        "gender=\"male\"\n",
        "print(gender)\n",
        "nationality=\"nationality-indian\"\n",
        "print(nationality)\n",
        "religion=\"Hindu\"\n",
        "print(religion)\n",
        "language=\"Fluency in - english,hindi\"\n",
        "print(language)\n",
        "blood_group=\"blood group-O+ive\"\n",
        "print(blood_group)\n",
        "father_name=\"father name-arun kumar\"\n",
        "print(father_name)\n",
        "dob=\"dob-04/03/2007\"\n",
        "print(dob)\n",
        "print(\"                                 * EDUCATION QUALIFICATIONS *                                        \")\n",
        "print(\"EDUCATION QUALIFICATION-BCOM\")\n",
        "print(\"CURRENTLY PURSUING-DATA SCIENCE COURSE CBITSS\")\n",
        "print(\"FLUENCY IN - ENGLISH ,HINDI\")\n",
        "print(\"ADDRESS-CHANDIGARH\")\n",
        "print(\"EMAIL ID-gauravtk006@gmail.com\")\n",
        "print(\"CONTACT-6280172709\")"
      ],
      "metadata": {
        "colab": {
          "base_uri": "https://localhost:8080/"
        },
        "id": "bG2IJDqN7cUY",
        "outputId": "cfe5d9b7-2314-4fe2-921e-032f4b74c1fe"
      },
      "execution_count": null,
      "outputs": [
        {
          "output_type": "stream",
          "name": "stdout",
          "text": [
            "                                      *  BIO DATA  *                                                 \n",
            "                                   * PERSNOL INFORMATION *                                         \n",
            "gaurav\n",
            "19\n",
            "male\n",
            "nationality-indian\n",
            "Hindu\n",
            "Fluency in - english,hindi\n",
            "blood group-O+ive\n",
            "father name-arun kumar\n",
            "dob-04/03/2007\n",
            "                                 * EDUCATION QUALIFICATIONS *                                        \n",
            "EDUCATION QUALIFICATION-BCOM\n",
            "CURRENTLY PURSUING-DATA SCIENCE COURSE CBITSS\n",
            "FLUENCY IN - ENGLISH ,HINDI\n",
            "ADDRESS-CHANDIGARH\n",
            "EMAIL ID-gauravtk006@gmail.com\n",
            "CONTACT-6280172709\n"
          ]
        }
      ]
    },
    {
      "cell_type": "code",
      "source": [
        "a=(10)\n",
        "print(\" i am trying to print a \",a)\n",
        "b=(19)\n",
        "print(b)\n",
        "\n"
      ],
      "metadata": {
        "colab": {
          "base_uri": "https://localhost:8080/"
        },
        "id": "dOZvanBcF2Z9",
        "outputId": "390a0f03-83fe-4e99-8051-af2284b2fe21"
      },
      "execution_count": null,
      "outputs": [
        {
          "output_type": "stream",
          "name": "stdout",
          "text": [
            " i am trying to print a  10\n",
            "19\n"
          ]
        }
      ]
    },
    {
      "cell_type": "code",
      "source": [
        "print(\"*************************************************************  Menu List  *********************************************************************************************\")\n",
        "print(\"                Beverages                      \")\n",
        "print(\"Vanilla shake   -     70\")\n",
        "print(\"strawberry shake  -    90\")\n",
        "print(\"Chocklate shake   -    50\")\n",
        "print(\"Oreo shake     -       85\")\n",
        "print(\"Mango shake     -      70\")\n",
        "print(\"banana shake    -      50\")\n",
        "\n",
        "print(\"                                                              Apetizers                                                                                        \")\n",
        "print(\"                                                      Fruit salad   -   160\")\n",
        "print(\"                                                       Sandwich   -   210\")\n",
        "print(\"                                                      French fries   -   160\")\n",
        "print(\"                                                         Nuggets   -   260\")\n",
        "print(\"                                                          Matcha   -   149\")\n",
        "print(\"                                                                                                             Main Course\")\n",
        "print(\"                                                                                                       Chole bhature   -   160\")\n",
        "print(\"                                                                                                     Chicken biryani   -   350\")\n",
        "print(\"                                                                                                        Matar paneer   -   180\")\n",
        "print(\"                                                                                                             Chapati   -   30\")\n",
        "print(\"                                                                                                           Dal makhni  -   140\")"
      ],
      "metadata": {
        "colab": {
          "base_uri": "https://localhost:8080/"
        },
        "id": "PhUM9oujS9gH",
        "outputId": "83623275-e2d5-4e81-bca2-4169e35bf8d6"
      },
      "execution_count": null,
      "outputs": [
        {
          "output_type": "stream",
          "name": "stdout",
          "text": [
            "*************************************************************  Menu List  *********************************************************************************************\n",
            "                Beverages                      \n",
            "Vanilla shake   -     70\n",
            "strawberry shake  -    90\n",
            "Chocklate shake   -    50\n",
            "Oreo shake     -       85\n",
            "Mango shake     -      70\n",
            "banana shake    -      50\n",
            "                                                              Apetizers                                                                                        \n",
            "                                                      Fruit salad   -   160\n",
            "                                                       Sandwich   -   210\n",
            "                                                      French fries   -   160\n",
            "                                                         Nuggets   -   260\n",
            "                                                          Matcha   -   149\n",
            "                                                                                                             Main Course\n",
            "                                                                                                       Chole bhature   -   160\n",
            "                                                                                                     Chicken biryani   -   350\n",
            "                                                                                                     Matar paneer   -   180\n",
            "                                                                                                        Chapati   -   30\n",
            "                                                                                                         Dal makhni  -   140\n"
          ]
        }
      ]
    },
    {
      "cell_type": "code",
      "source": [
        "print(\"<<<<<<<<<<<<<<<<<<<<<<<<<<<<<<<<<<<<<<<<<<<<<<<<<<<<<<<<<<<<<<<<<<<<<<MOVIES DETAILS>>>>>>>>>>>>>>>>>>>>>>>>>>>>>>>>>>>>>>>>>>>>>>>>>>>>>>>>>>>>>>>>>>>>>>>>>>>>>>>>>>>\")\n",
        "print(\"   MOVIE TITLE                           Director                        GENRE                               MPA RATING   \")\n",
        "print(\"   Brahmastra                            Ayan Mukerji                   Action/Fantasy                         5.6                 \")\n",
        "print(\"   Hera pheri                             Priyadarshan                   Comedy                                8.5                              \")\n",
        "print(\"    Welcome                               Anees Bazmee                  Action/Comedy                          7.1\")\n",
        "print(\"    Jumanji                               Jake kasdan                   Adventure/Comedy                        7\")\n",
        "Movie_name1=\"     Bahubali                            S. S. Rajamouli               Action/Fantasy                           8.9\"\n",
        "print(Movie_name1)\n",
        "War=\"       War                                Siddharth Anand             Action/Thriller                            8.5\"\n",
        "print(War)\n",
        "War_2=\"     War 2                                 Siddharth Anand              Action/Thriller                          8.9\"\n",
        "print(War_2)"
      ],
      "metadata": {
        "colab": {
          "base_uri": "https://localhost:8080/"
        },
        "id": "MztuTo1KliZa",
        "outputId": "a6ef9f81-ecc4-4a9e-a1ce-480e6d56ee1e"
      },
      "execution_count": null,
      "outputs": [
        {
          "output_type": "stream",
          "name": "stdout",
          "text": [
            "<<<<<<<<<<<<<<<<<<<<<<<<<<<<<<<<<<<<<<<<<<<<<<<<<<<<<<<<<<<<<<<<<<<<<<MOVIES DETAILS>>>>>>>>>>>>>>>>>>>>>>>>>>>>>>>>>>>>>>>>>>>>>>>>>>>>>>>>>>>>>>>>>>>>>>>>>>>>>>>>>>>\n",
            "   MOVIE TITLE                           Director                        GENRE                               MPA RATING   \n",
            "   Brahmastra                            Ayan Mukerji                   Action/Fantasy                         5.6                 \n",
            "   Hera pheri                             Priyadarshan                   Comedy                                8.5                              \n",
            "    Welcome                               Anees Bazmee                  Action/Comedy                          7.1\n",
            "    Jumanji                               Jake kasdan                   Adventure/Comedy                        7\n",
            "     Bahubali                            S. S. Rajamouli               Action/Fantasy                           8.9\n",
            "       War                                Siddharth Anand             Action/Thriller                            8.5\n",
            "     War 2                                 Siddharth Anand              Action/Thriller                          8.9\n"
          ]
        }
      ]
    },
    {
      "cell_type": "code",
      "source": [
        "name = str(input(\"What is your name \"))\n",
        "age = int(input(\"What is your age\"))\n",
        "Height = float(input(\"What is your height\"))\n",
        "print(name)\n",
        "print(age)\n",
        "print(Height)"
      ],
      "metadata": {
        "colab": {
          "base_uri": "https://localhost:8080/"
        },
        "id": "zvNuykKe1gEr",
        "outputId": "9689413c-2bd5-4908-dc67-9a4083657c5f"
      },
      "execution_count": null,
      "outputs": [
        {
          "output_type": "stream",
          "name": "stdout",
          "text": [
            "What is your name Gaurav\n",
            "What is your age19\n",
            "What is your height5.8\n",
            "Gaurav\n",
            "19\n",
            "5.8\n"
          ]
        }
      ]
    },
    {
      "cell_type": "code",
      "source": [
        "p = int(input(\"What is principle ammount :\"))\n",
        "r = int(input(\"what is rate :\"))\n",
        "t = int(input(\"what is TIME :\"))\n",
        "SI = p*r*t/100\n",
        "print(SI)\n",
        "p = int(input(\"What is principle ammount :\"))\n",
        "r = int(input(\"what is rate :\"))\n",
        "days = float(input(\"Tell the days\"))\n",
        "SI1 = p*r*days/30//100\n",
        "print(SI1)\n",
        "Total_ammount =(p+SI+SI1)\n",
        "print(\"Total ammount payable\")\n",
        "print(Total_ammount)\n",
        "21"
      ],
      "metadata": {
        "id": "FduRRTOD2rz-"
      },
      "execution_count": null,
      "outputs": []
    },
    {
      "cell_type": "code",
      "source": [],
      "metadata": {
        "id": "au3asjrFleEJ"
      },
      "execution_count": null,
      "outputs": []
    },
    {
      "cell_type": "code",
      "source": [],
      "metadata": {
        "id": "TkfYvuQzDig5"
      },
      "execution_count": null,
      "outputs": []
    },
    {
      "cell_type": "code",
      "source": [
        "#control flow\n",
        "Gender = (input(\"what is your gender\"))\n",
        "if Gender == \"male\":\n",
        "  print(\"hotel a\")\n",
        "else:\n",
        "  print(\"hotel b\")"
      ],
      "metadata": {
        "colab": {
          "base_uri": "https://localhost:8080/"
        },
        "id": "7FVqcMG-A2om",
        "outputId": "30bc5b2a-5f4f-4fdb-a2b9-b635ae986f88"
      },
      "execution_count": null,
      "outputs": [
        {
          "output_type": "stream",
          "name": "stdout",
          "text": [
            "what is your gendermale\n",
            "hotel a\n"
          ]
        }
      ]
    },
    {
      "cell_type": "code",
      "source": [
        "#control flow\n",
        "Gender = (input(\"what is your gender\"))\n",
        "Age = int(input(\"What is your age\"))\n",
        "if Gender == \"male\" and Age<=30 :\n",
        "  print(\"hotel a block a \")\n",
        "elif Gender == \"male\" and Age>=29:\n",
        "  print(\"hotel a block b\")\n",
        "elif Gender ==\"female\" and Age<=30:\n",
        " print(\"hotel b nlock a \")\n",
        "elif Gender == \"female\" and Age>=29:\n",
        "  print(\"hotel b block b\")\n",
        "else:\n",
        "  print(\"invalid\")"
      ],
      "metadata": {
        "colab": {
          "base_uri": "https://localhost:8080/"
        },
        "id": "vfPCrz3GGgtH",
        "outputId": "6aad185f-d529-444b-b1ed-81c50eb971ef"
      },
      "execution_count": 5,
      "outputs": [
        {
          "output_type": "stream",
          "name": "stdout",
          "text": [
            "what is your genderfemale\n",
            "What is your age31\n",
            "hotel b block b\n"
          ]
        }
      ]
    },
    {
      "cell_type": "code",
      "source": [
        "number1 = int(input(\"what is number 1:\"))\n",
        "number2 = int(input(\"what is number 2:\"))\n",
        "c=number1/number2\n",
        "print(\"remainder is:\",number1%number2)\n",
        "print(\"Quotient is\")\n",
        "print(c)\n"
      ],
      "metadata": {
        "colab": {
          "base_uri": "https://localhost:8080/"
        },
        "id": "DrAXkFfjJnRT",
        "outputId": "cd91f599-83f7-4789-f58e-6e67c7d2601a"
      },
      "execution_count": null,
      "outputs": [
        {
          "output_type": "stream",
          "name": "stdout",
          "text": [
            "what is number 1:20\n",
            "what is number 2:10\n",
            "remainder is: 0\n",
            "Quotient is\n",
            "2.0\n"
          ]
        }
      ]
    },
    {
      "cell_type": "code",
      "source": [
        "Number = int(input(\"what is the number : \"))\n",
        "if Number%7==0 and Number%3==0:\n",
        "   print(\"yes\")\n",
        "else:\n",
        "  print(\"No\")"
      ],
      "metadata": {
        "colab": {
          "base_uri": "https://localhost:8080/"
        },
        "id": "HqogEeGgOSWn",
        "outputId": "d3978056-6a15-4999-d8ab-40a4f3eb0459"
      },
      "execution_count": null,
      "outputs": [
        {
          "output_type": "stream",
          "name": "stdout",
          "text": [
            "what is the number : 30\n",
            "No\n"
          ]
        }
      ]
    },
    {
      "cell_type": "code",
      "source": [],
      "metadata": {
        "id": "cADPiIDd0rWf"
      },
      "execution_count": null,
      "outputs": []
    },
    {
      "cell_type": "code",
      "source": [
        "Number = float(input(\"please enter your marks : \"))\n",
        "if Number>=90:\n",
        "  print(\" Grade A+\")\n",
        "elif Number>=80 and Number<90:\n",
        "  print(\" Grade A\")\n",
        "elif Number>=70 and Number<80:\n",
        "  print(\" Grade B+\")\n",
        "elif Number>=60 and Number<70:\n",
        "  print(\" Grade B\")\n",
        "elif Number>=33 and Number<60:\n",
        "  print(\" Grade C\")\n",
        "else:\n",
        "  print(\"Fail\")\n"
      ],
      "metadata": {
        "colab": {
          "base_uri": "https://localhost:8080/"
        },
        "id": "oISbcRwD0tEL",
        "outputId": "f8437288-6c23-4ec4-acfc-524c94f1a13f"
      },
      "execution_count": 13,
      "outputs": [
        {
          "output_type": "stream",
          "name": "stdout",
          "text": [
            "please enter your marks : 65\n",
            " Grade B\n"
          ]
        }
      ]
    }
  ]
}