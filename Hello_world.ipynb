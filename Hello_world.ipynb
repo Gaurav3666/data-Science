{
  "cells": [
    {
      "cell_type": "markdown",
      "metadata": {
        "id": "view-in-github",
        "colab_type": "text"
      },
      "source": [
        "<a href=\"https://colab.research.google.com/github/Gaurav3666/data-Science/blob/main/Hello_world.ipynb\" target=\"_parent\"><img src=\"https://colab.research.google.com/assets/colab-badge.svg\" alt=\"Open In Colab\"/></a>"
      ]
    },
    {
      "cell_type": "code",
      "execution_count": null,
      "metadata": {
        "colab": {
          "base_uri": "https://localhost:8080/"
        },
        "id": "onNCSXAlwnCv",
        "outputId": "2acdc278-dfe4-488b-8765-1881a7a2d031"
      },
      "outputs": [
        {
          "name": "stdout",
          "output_type": "stream",
          "text": [
            "hello world\n"
          ]
        }
      ],
      "source": [
        "\n",
        "# i have made\n",
        "\"\"\" My name is gaurav\n",
        "i am pursuing data science course\n",
        "i had written my first code\"\"\"\n",
        "# my first code\n",
        "print(\"hello world\")"
      ]
    },
    {
      "cell_type": "code",
      "execution_count": null,
      "metadata": {
        "colab": {
          "base_uri": "https://localhost:8080/"
        },
        "id": "PqKCzELQ5MkQ",
        "outputId": "631b8a1a-1cbd-441b-d0e2-38f63e337073"
      },
      "outputs": [
        {
          "name": "stdout",
          "output_type": "stream",
          "text": [
            "my name is gaurav\n",
            "i am 19 years old\n"
          ]
        }
      ],
      "source": [
        "#NAME\n",
        "print(\"my name is gaurav\")\n",
        "#AGE\n",
        "print(\"i am 19 years old\")"
      ]
    },
    {
      "cell_type": "code",
      "execution_count": null,
      "metadata": {
        "colab": {
          "base_uri": "https://localhost:8080/"
        },
        "id": "bG2IJDqN7cUY",
        "outputId": "cfe5d9b7-2314-4fe2-921e-032f4b74c1fe"
      },
      "outputs": [
        {
          "name": "stdout",
          "output_type": "stream",
          "text": [
            "                                      *  BIO DATA  *                                                 \n",
            "                                   * PERSNOL INFORMATION *                                         \n",
            "gaurav\n",
            "19\n",
            "male\n",
            "nationality-indian\n",
            "Hindu\n",
            "Fluency in - english,hindi\n",
            "blood group-O+ive\n",
            "father name-arun kumar\n",
            "dob-04/03/2007\n",
            "                                 * EDUCATION QUALIFICATIONS *                                        \n",
            "EDUCATION QUALIFICATION-BCOM\n",
            "CURRENTLY PURSUING-DATA SCIENCE COURSE CBITSS\n",
            "FLUENCY IN - ENGLISH ,HINDI\n",
            "ADDRESS-CHANDIGARH\n",
            "EMAIL ID-gauravtk006@gmail.com\n",
            "CONTACT-6280172709\n"
          ]
        }
      ],
      "source": [
        "print(\"                                      *  BIO DATA  *                                                 \")\n",
        "\n",
        "\n",
        "\n",
        "print(\"                                   * PERSNOL INFORMATION *                                         \")\n",
        "my_name=\"gaurav\"\n",
        "print(my_name)\n",
        "my_age=\"19\"\n",
        "print(my_age)\n",
        "gender=\"male\"\n",
        "print(gender)\n",
        "nationality=\"nationality-indian\"\n",
        "print(nationality)\n",
        "religion=\"Hindu\"\n",
        "print(religion)\n",
        "language=\"Fluency in - english,hindi\"\n",
        "print(language)\n",
        "blood_group=\"blood group-O+ive\"\n",
        "print(blood_group)\n",
        "father_name=\"father name-arun kumar\"\n",
        "print(father_name)\n",
        "dob=\"dob-04/03/2007\"\n",
        "print(dob)\n",
        "print(\"                                 * EDUCATION QUALIFICATIONS *                                        \")\n",
        "print(\"EDUCATION QUALIFICATION-BCOM\")\n",
        "print(\"CURRENTLY PURSUING-DATA SCIENCE COURSE CBITSS\")\n",
        "print(\"FLUENCY IN - ENGLISH ,HINDI\")\n",
        "print(\"ADDRESS-CHANDIGARH\")\n",
        "print(\"EMAIL ID-gauravtk006@gmail.com\")\n",
        "print(\"CONTACT-6280172709\")"
      ]
    },
    {
      "cell_type": "code",
      "execution_count": null,
      "metadata": {
        "colab": {
          "base_uri": "https://localhost:8080/"
        },
        "id": "dOZvanBcF2Z9",
        "outputId": "390a0f03-83fe-4e99-8051-af2284b2fe21"
      },
      "outputs": [
        {
          "name": "stdout",
          "output_type": "stream",
          "text": [
            " i am trying to print a  10\n",
            "19\n"
          ]
        }
      ],
      "source": [
        "a=(10)\n",
        "print(\" i am trying to print a \",a)\n",
        "b=(19)\n",
        "print(b)\n",
        "\n"
      ]
    },
    {
      "cell_type": "code",
      "execution_count": null,
      "metadata": {
        "colab": {
          "base_uri": "https://localhost:8080/"
        },
        "id": "PhUM9oujS9gH",
        "outputId": "83623275-e2d5-4e81-bca2-4169e35bf8d6"
      },
      "outputs": [
        {
          "name": "stdout",
          "output_type": "stream",
          "text": [
            "*************************************************************  Menu List  *********************************************************************************************\n",
            "                Beverages                      \n",
            "Vanilla shake   -     70\n",
            "strawberry shake  -    90\n",
            "Chocklate shake   -    50\n",
            "Oreo shake     -       85\n",
            "Mango shake     -      70\n",
            "banana shake    -      50\n",
            "                                                              Apetizers                                                                                        \n",
            "                                                      Fruit salad   -   160\n",
            "                                                       Sandwich   -   210\n",
            "                                                      French fries   -   160\n",
            "                                                         Nuggets   -   260\n",
            "                                                          Matcha   -   149\n",
            "                                                                                                             Main Course\n",
            "                                                                                                       Chole bhature   -   160\n",
            "                                                                                                     Chicken biryani   -   350\n",
            "                                                                                                     Matar paneer   -   180\n",
            "                                                                                                        Chapati   -   30\n",
            "                                                                                                         Dal makhni  -   140\n"
          ]
        }
      ],
      "source": [
        "print(\"*************************************************************  Menu List  *********************************************************************************************\")\n",
        "print(\"                Beverages                      \")\n",
        "print(\"Vanilla shake   -     70\")\n",
        "print(\"strawberry shake  -    90\")\n",
        "print(\"Chocklate shake   -    50\")\n",
        "print(\"Oreo shake     -       85\")\n",
        "print(\"Mango shake     -      70\")\n",
        "print(\"banana shake    -      50\")\n",
        "\n",
        "print(\"                                                              Apetizers                                                                                        \")\n",
        "print(\"                                                      Fruit salad   -   160\")\n",
        "print(\"                                                       Sandwich   -   210\")\n",
        "print(\"                                                      French fries   -   160\")\n",
        "print(\"                                                         Nuggets   -   260\")\n",
        "print(\"                                                          Matcha   -   149\")\n",
        "print(\"                                                                                                             Main Course\")\n",
        "print(\"                                                                                                       Chole bhature   -   160\")\n",
        "print(\"                                                                                                     Chicken biryani   -   350\")\n",
        "print(\"                                                                                                        Matar paneer   -   180\")\n",
        "print(\"                                                                                                             Chapati   -   30\")\n",
        "print(\"                                                                                                           Dal makhni  -   140\")"
      ]
    },
    {
      "cell_type": "code",
      "execution_count": null,
      "metadata": {
        "colab": {
          "base_uri": "https://localhost:8080/"
        },
        "id": "MztuTo1KliZa",
        "outputId": "a6ef9f81-ecc4-4a9e-a1ce-480e6d56ee1e"
      },
      "outputs": [
        {
          "name": "stdout",
          "output_type": "stream",
          "text": [
            "<<<<<<<<<<<<<<<<<<<<<<<<<<<<<<<<<<<<<<<<<<<<<<<<<<<<<<<<<<<<<<<<<<<<<<MOVIES DETAILS>>>>>>>>>>>>>>>>>>>>>>>>>>>>>>>>>>>>>>>>>>>>>>>>>>>>>>>>>>>>>>>>>>>>>>>>>>>>>>>>>>>\n",
            "   MOVIE TITLE                           Director                        GENRE                               MPA RATING   \n",
            "   Brahmastra                            Ayan Mukerji                   Action/Fantasy                         5.6                 \n",
            "   Hera pheri                             Priyadarshan                   Comedy                                8.5                              \n",
            "    Welcome                               Anees Bazmee                  Action/Comedy                          7.1\n",
            "    Jumanji                               Jake kasdan                   Adventure/Comedy                        7\n",
            "     Bahubali                            S. S. Rajamouli               Action/Fantasy                           8.9\n",
            "       War                                Siddharth Anand             Action/Thriller                            8.5\n",
            "     War 2                                 Siddharth Anand              Action/Thriller                          8.9\n"
          ]
        }
      ],
      "source": [
        "print(\"<<<<<<<<<<<<<<<<<<<<<<<<<<<<<<<<<<<<<<<<<<<<<<<<<<<<<<<<<<<<<<<<<<<<<<MOVIES DETAILS>>>>>>>>>>>>>>>>>>>>>>>>>>>>>>>>>>>>>>>>>>>>>>>>>>>>>>>>>>>>>>>>>>>>>>>>>>>>>>>>>>>\")\n",
        "print(\"   MOVIE TITLE                           Director                        GENRE                               MPA RATING   \")\n",
        "print(\"   Brahmastra                            Ayan Mukerji                   Action/Fantasy                         5.6                 \")\n",
        "print(\"   Hera pheri                             Priyadarshan                   Comedy                                8.5                              \")\n",
        "print(\"    Welcome                               Anees Bazmee                  Action/Comedy                          7.1\")\n",
        "print(\"    Jumanji                               Jake kasdan                   Adventure/Comedy                        7\")\n",
        "Movie_name1=\"     Bahubali                            S. S. Rajamouli               Action/Fantasy                           8.9\"\n",
        "print(Movie_name1)\n",
        "War=\"       War                                Siddharth Anand             Action/Thriller                            8.5\"\n",
        "print(War)\n",
        "War_2=\"     War 2                                 Siddharth Anand              Action/Thriller                          8.9\"\n",
        "print(War_2)"
      ]
    },
    {
      "cell_type": "code",
      "execution_count": null,
      "metadata": {
        "colab": {
          "base_uri": "https://localhost:8080/"
        },
        "id": "zvNuykKe1gEr",
        "outputId": "9689413c-2bd5-4908-dc67-9a4083657c5f"
      },
      "outputs": [
        {
          "name": "stdout",
          "output_type": "stream",
          "text": [
            "What is your name Gaurav\n",
            "What is your age19\n",
            "What is your height5.8\n",
            "Gaurav\n",
            "19\n",
            "5.8\n"
          ]
        }
      ],
      "source": [
        "name = str(input(\"What is your name \"))\n",
        "age = int(input(\"What is your age\"))\n",
        "Height = float(input(\"What is your height\"))\n",
        "print(name)\n",
        "print(age)\n",
        "print(Height)"
      ]
    },
    {
      "cell_type": "code",
      "execution_count": null,
      "metadata": {
        "colab": {
          "base_uri": "https://localhost:8080/"
        },
        "id": "FduRRTOD2rz-",
        "outputId": "8ed1a89b-0f36-4e55-eb22-a82346901971"
      },
      "outputs": [
        {
          "name": "stdout",
          "output_type": "stream",
          "text": [
            "What is principle ammount :1000\n",
            "what is rate :10\n",
            "what is TIME :3\n",
            "300.0\n",
            "Please enter the monthJanuary\n",
            "Please enter the days21\n",
            "Please enetr the year2024\n",
            "Time 1\n",
            "0.6774193548387096\n",
            "Simple interest of days\n",
            "67.74193548387096\n",
            "total payable ammount\n",
            "1367.741935483871\n"
          ]
        }
      ],
      "source": [
        "principle_ammount = int(input(\"What is principle ammount :\"))\n",
        "rate = int(input(\"what is rate :\"))\n",
        "time = int(input(\"what is TIME :\"))\n",
        "SI = principle_ammount*rate*time/100\n",
        "print(SI)\n",
        "Month = (input(\"Please enter the month\"))\n",
        "Days =  int(input(\"Please enter the days\"))\n",
        "Year = int(input(\"Please enetr the year\"))\n",
        "if Month == \"January\" or Month == \"March\" or Month == \"May\" or Month == \"July\" or Month == \"August\" or Month == \"October\" or Month == \"December\":\n",
        "  Month_in_days = 31\n",
        "elif Month == \"April\" or Month== \"June\" or Month == \"September\" or Month == \"November\":\n",
        "  Month_in_days = 30\n",
        "else:\n",
        "  if Year%4==0 and Year%100!=0 or Year%400==0:\n",
        "    Month_in_days = 29\n",
        "  else:\n",
        "    Month_in_days = 28\n",
        "    print(Month_in_days)\n",
        "T1 = Days/Month_in_days\n",
        "print(\"Time 1\")\n",
        "print(T1)\n",
        "S11 = principle_ammount*rate*T1/100\n",
        "print(\"Simple interest of days\")\n",
        "print(S11)\n",
        "Total_ammount_payable = principle_ammount+SI+S11\n",
        "print(\"total payable ammount\")\n",
        "print(Total_ammount_payable)\n"
      ]
    },
    {
      "cell_type": "code",
      "execution_count": null,
      "metadata": {
        "id": "au3asjrFleEJ"
      },
      "outputs": [],
      "source": []
    },
    {
      "cell_type": "code",
      "execution_count": null,
      "metadata": {
        "id": "TkfYvuQzDig5"
      },
      "outputs": [],
      "source": []
    },
    {
      "cell_type": "code",
      "execution_count": null,
      "metadata": {
        "colab": {
          "base_uri": "https://localhost:8080/"
        },
        "id": "7FVqcMG-A2om",
        "outputId": "30bc5b2a-5f4f-4fdb-a2b9-b635ae986f88"
      },
      "outputs": [
        {
          "name": "stdout",
          "output_type": "stream",
          "text": [
            "what is your gendermale\n",
            "hotel a\n"
          ]
        }
      ],
      "source": [
        "#control flow\n",
        "Gender = (input(\"what is your gender\"))\n",
        "if Gender == \"male\":\n",
        "  print(\"hotel a\")\n",
        "else:\n",
        "  print(\"hotel b\")"
      ]
    },
    {
      "cell_type": "code",
      "execution_count": null,
      "metadata": {
        "colab": {
          "base_uri": "https://localhost:8080/"
        },
        "id": "vfPCrz3GGgtH",
        "outputId": "12823e74-e858-49db-9a4b-4fc9f072c48f"
      },
      "outputs": [
        {
          "name": "stdout",
          "output_type": "stream",
          "text": [
            "what is your gendermale\n",
            "What is your age31\n",
            "hotel a block b\n"
          ]
        }
      ],
      "source": [
        "#control flow\n",
        "Gender = (input(\"what is your gender\"))\n",
        "Age = int(input(\"What is your age\"))\n",
        "if Gender == \"male\":\n",
        "  print(\"hotel a\")\n",
        "if Age == \">=30\":\n",
        "  print(\"block a\")\n",
        "\n",
        "elif Gender == \"male\" and Age>=31:\n",
        "  print(\"hotel a block b\")\n",
        "elif Gender ==\"female\" and Age<=30:\n",
        " print(\"hotel b nlock a \")\n",
        "elif Gender == \"female\" and Age>=31:\n",
        "  print(\"hotel b block b\")\n",
        "else:\n",
        "  print(\"invalid\")"
      ]
    },
    {
      "cell_type": "code",
      "execution_count": null,
      "metadata": {
        "colab": {
          "base_uri": "https://localhost:8080/"
        },
        "id": "DrAXkFfjJnRT",
        "outputId": "cd91f599-83f7-4789-f58e-6e67c7d2601a"
      },
      "outputs": [
        {
          "name": "stdout",
          "output_type": "stream",
          "text": [
            "what is number 1:20\n",
            "what is number 2:10\n",
            "remainder is: 0\n",
            "Quotient is\n",
            "2.0\n"
          ]
        }
      ],
      "source": [
        "number1 = int(input(\"what is number 1:\"))\n",
        "number2 = int(input(\"what is number 2:\"))\n",
        "c=number1/number2\n",
        "print(\"remainder is:\",number1%number2)\n",
        "print(\"Quotient is\")\n",
        "print(c)\n"
      ]
    },
    {
      "cell_type": "code",
      "execution_count": null,
      "metadata": {
        "colab": {
          "base_uri": "https://localhost:8080/"
        },
        "id": "HqogEeGgOSWn",
        "outputId": "d3978056-6a15-4999-d8ab-40a4f3eb0459"
      },
      "outputs": [
        {
          "name": "stdout",
          "output_type": "stream",
          "text": [
            "what is the number : 30\n",
            "No\n"
          ]
        }
      ],
      "source": [
        "Number = int(input(\"what is the number : \"))\n",
        "if Number%7==0 and Number%3==0:\n",
        "   print(\"yes\")\n",
        "else:\n",
        "  print(\"No\")"
      ]
    },
    {
      "cell_type": "code",
      "execution_count": null,
      "metadata": {
        "id": "cADPiIDd0rWf"
      },
      "outputs": [],
      "source": []
    },
    {
      "cell_type": "code",
      "execution_count": null,
      "metadata": {
        "colab": {
          "base_uri": "https://localhost:8080/"
        },
        "id": "oISbcRwD0tEL",
        "outputId": "a59fc454-6a6f-4c01-869b-bb28a36d0431"
      },
      "outputs": [
        {
          "name": "stdout",
          "output_type": "stream",
          "text": [
            "please enter your marks : 85\n",
            " Grade A\n"
          ]
        }
      ],
      "source": [
        "Number = float(input(\"please enter your marks : \"))\n",
        "if Number>=90:\n",
        "  print(\" Grade A+\")\n",
        "elif Number>=80 and Number<90:\n",
        "  print(\" Grade A\")\n",
        "elif Number>=70 and Number<80:\n",
        "  print(\" Grade B+\")\n",
        "elif Number>=60 and Number<70:\n",
        "  print(\" Grade B\")\n",
        "elif Number>=33 and Number<60:\n",
        "  print(\" Grade C\")\n",
        "else:\n",
        "  print(\"Fail\")\n"
      ]
    },
    {
      "cell_type": "code",
      "execution_count": null,
      "metadata": {
        "colab": {
          "base_uri": "https://localhost:8080/"
        },
        "id": "cn8JkVndMCgM",
        "outputId": "4be4f1e0-67b5-44b6-f046-3986a12bc895"
      },
      "outputs": [
        {
          "name": "stdout",
          "output_type": "stream",
          "text": [
            "Enter your usernameGauravtk006@gmail.com\n",
            "enter your passwordQwerty@123\n",
            "Login succesfull\n"
          ]
        }
      ],
      "source": [
        "id = input(\"Enter your username : \")\n",
        "password = input(\"enter your password\")\n",
        "if id == \"Gauravtk006@gmail.com\" and password == \"Qwerty@123\":\n",
        "  print(\"Login succesfull\")\n",
        "else:\n",
        "  print(\"invalid id and password\")\n",
        "\n"
      ]
    },
    {
      "cell_type": "code",
      "execution_count": null,
      "metadata": {
        "colab": {
          "base_uri": "https://localhost:8080/"
        },
        "id": "ycqK4I1qOSRS",
        "outputId": "1add5915-cdff-4d3a-ce1d-709f5c0a19f4"
      },
      "outputs": [
        {
          "name": "stdout",
          "output_type": "stream",
          "text": [
            "please enter the value of A :10\n",
            "please enter the value of B :5\n",
            "A grater then B\n"
          ]
        }
      ],
      "source": [
        "A= int(input(\"please enter the value of A :\"))\n",
        "B= int(input(\"please enter the value of B :\"))\n",
        "if A>B:\n",
        "  print(\"A grater then B\")\n",
        "if B>A:\n",
        "  print(\"B is greater then A\")\n"
      ]
    },
    {
      "cell_type": "code",
      "execution_count": null,
      "metadata": {
        "colab": {
          "base_uri": "https://localhost:8080/"
        },
        "id": "mAbF95I_RQ6C",
        "outputId": "3ffe4899-b0eb-40e6-b0f6-34541b9e4124"
      },
      "outputs": [
        {
          "name": "stdout",
          "output_type": "stream",
          "text": [
            "c is greater than a and b\n"
          ]
        }
      ],
      "source": [
        "A,B,C = 10,20,30\n",
        "if A>B and A>C:\n",
        "  print(\"A is greater than b and c \")\n",
        "if B>A and B>C:\n",
        "  print(\"B is greater than a and c\")\n",
        "else:\n",
        "  print(\"c is greater than a and b\")\n",
        "\n"
      ]
    },
    {
      "cell_type": "code",
      "execution_count": null,
      "metadata": {
        "colab": {
          "base_uri": "https://localhost:8080/"
        },
        "id": "YejBimotUaKn",
        "outputId": "a228ed00-225d-4532-db19-01bd803a5b1a"
      },
      "outputs": [
        {
          "name": "stdout",
          "output_type": "stream",
          "text": [
            "Please enter the year : 2024\n",
            "Leap Year\n"
          ]
        }
      ],
      "source": [
        "Year = int(input(\"Please enter the year : \"))\n",
        "if Year%4==0 and Year%100!=0 or Year%400==0:\n",
        "  print(\"Leap Year\")\n",
        "else:\n",
        "  print(\"Not a leap year\")"
      ]
    },
    {
      "cell_type": "code",
      "execution_count": null,
      "metadata": {
        "colab": {
          "base_uri": "https://localhost:8080/"
        },
        "id": "eQ245maqYN-_",
        "outputId": "3d34962f-01f0-4eeb-9819-14ae2417b6b3"
      },
      "outputs": [
        {
          "name": "stdout",
          "output_type": "stream",
          "text": [
            "please enter the year2100\n",
            "leap year\n"
          ]
        }
      ],
      "source": [
        "year = int(input(\"please enter the year\"))\n",
        "if year%4==0:\n",
        "  print(\"leap year\")\n",
        "elif year%100!=0:\n",
        "  print(\"Leap year\")\n",
        "elif year%400==0:\n",
        "  print(\"leap year\")\n",
        "else:\n",
        "  print(\"not a leap year\")"
      ]
    },
    {
      "cell_type": "code",
      "execution_count": null,
      "metadata": {
        "colab": {
          "base_uri": "https://localhost:8080/"
        },
        "id": "OQODzYyOfKGP",
        "outputId": "02b42724-a327-43e7-a1fa-f150e95a7c1a"
      },
      "outputs": [
        {
          "name": "stdout",
          "output_type": "stream",
          "text": [
            "0\n",
            "1\n",
            "2\n",
            "3\n",
            "4\n",
            "5\n",
            "6\n",
            "7\n",
            "8\n",
            "9\n",
            "10\n"
          ]
        }
      ],
      "source": [
        "# name = \"Gaurav\"\n",
        "#for i in name:\n",
        " # print(i)\n",
        " # if i == \"v\":\n",
        "  #  print(\"this is something special\")\n",
        "for k in range(0,11):\n",
        "  print(k)"
      ]
    },
    {
      "cell_type": "code",
      "execution_count": null,
      "metadata": {
        "id": "1W_jDaw-rI4u"
      },
      "outputs": [],
      "source": []
    },
    {
      "cell_type": "code",
      "execution_count": null,
      "metadata": {
        "colab": {
          "base_uri": "https://localhost:8080/"
        },
        "id": "nbenoVzwVsjq",
        "outputId": "0f77e948-7b19-4f33-a1a0-caebe8994c7d"
      },
      "outputs": [
        {
          "name": "stdout",
          "output_type": "stream",
          "text": [
            "please enter the product name :loptop\n",
            "please enter the product name :phone\n",
            "please enter the price of product 1 :2566\n",
            "please enter the price of product 2 :0258\n",
            "Price of product 1 after discount 2309.4\n",
            "Price of product 2 after discount 232.2\n",
            "Total price after discount 2541.6\n",
            "\n",
            "Login OR Signup\n",
            "Please enter the mobile number :326598745\n",
            "Please enter the otp002536692558\n",
            "Login succesfull\n",
            "Please enter the adddessdaria chd\n",
            "Coupon Code\n",
            "Please enter the coupon codeGAURAV4\n",
            "Coupon code accepted\n",
            "Grand total 2287.44\n",
            "Thank you for shopping\n"
          ]
        }
      ],
      "source": [
        "Product_1 = input(\"please enter the product name :\")\n",
        "Product_2 = input(\"please enter the product name :\")\n",
        "Price_1 = int(input(\"please enter the price of product 1 :\"))\n",
        "Price_2 = int(input(\"please enter the price of product 2 :\"))\n",
        "Discount_1 = Price_1*10/100\n",
        "Discount_2 = Price_2*10/100\n",
        "Price_after_discount_1 = Price_1-Discount_1\n",
        "Price_after_discount_2 = Price_2-Discount_2\n",
        "print(\"Price of product 1 after discount\" ,Price_after_discount_1)\n",
        "print(\"Price of product 2 after discount\" ,Price_after_discount_2)\n",
        "Price = Price_after_discount_1+Price_after_discount_2\n",
        "print( \"Total price after discount\" ,Price)\n",
        "print(\"\")\n",
        "print(\"Login OR Signup\")\n",
        "Mobile_Number = int(input(\"Please enter the mobile number :\"))\n",
        "Otp = int(input(\"Please enter the otp\"))\n",
        "print(\"Login succesfull\")\n",
        "Adress = (input(\"Please enter the adddess\"))\n",
        "print(\"Coupon Code\")\n",
        "Coupon_Code = input(\"Please enter the coupon code\")\n",
        "if Coupon_Code == \"GAURAV4\":\n",
        "  print(\"Coupon code accepted\")\n",
        "  discount = Price*10/100\n",
        "  Grand_total = Price-discount\n",
        "  print(\"Grand total\" ,Grand_total)\n",
        "  print(\"Thank you for shopping\")\n",
        "else:\n",
        "    print(\"Coupon code invalid\")\n",
        "    print(\"Grand total\" , Price)\n",
        "    print(\"Thanks for shopping\")"
      ]
    },
    {
      "cell_type": "code",
      "execution_count": null,
      "metadata": {
        "colab": {
          "base_uri": "https://localhost:8080/"
        },
        "id": "BCmv-U1n8z4q",
        "outputId": "9f063e3a-6c5b-425d-8605-08e15bed9532"
      },
      "outputs": [
        {
          "name": "stdout",
          "output_type": "stream",
          "text": [
            "120\n"
          ]
        }
      ],
      "source": [
        "factorial = 1\n",
        "for i in range (1,6):\n",
        "  factorial =factorial*i\n",
        "print(factorial)"
      ]
    },
    {
      "cell_type": "code",
      "execution_count": null,
      "metadata": {
        "colab": {
          "base_uri": "https://localhost:8080/"
        },
        "id": "MniioPkLxqfE",
        "outputId": "bb600450-8777-4876-ca71-72f9dedff3b6"
      },
      "outputs": [
        {
          "name": "stdout",
          "output_type": "stream",
          "text": [
            "10\n",
            "20\n",
            "40\n",
            "50\n",
            "70\n",
            "80\n",
            "100\n"
          ]
        }
      ],
      "source": [
        "for i in range (0,101):\n",
        "  if i%5==0 and i%10==0 and i%15!=0:\n",
        "    print(i)"
      ]
    },
    {
      "cell_type": "code",
      "execution_count": null,
      "metadata": {
        "colab": {
          "base_uri": "https://localhost:8080/"
        },
        "id": "8LZoNW7EutH_",
        "outputId": "47f4e959-9e47-49d5-f8b7-600bcd9dfefd"
      },
      "outputs": [
        {
          "name": "stdout",
          "output_type": "stream",
          "text": [
            "5\n",
            "10\n",
            "15\n",
            "20\n",
            "25\n",
            "30\n",
            "35\n",
            "40\n",
            "45\n",
            "50\n"
          ]
        }
      ],
      "source": [
        "for i in range (5,51,5):\n",
        "  print(i)"
      ]
    },
    {
      "cell_type": "code",
      "execution_count": null,
      "metadata": {
        "colab": {
          "base_uri": "https://localhost:8080/"
        },
        "id": "hM41sfoy9hfL",
        "outputId": "3036aea2-cec1-47da-b8c0-f8c63c0f505a"
      },
      "outputs": [
        {
          "name": "stdout",
          "output_type": "stream",
          "text": [
            "1\n",
            "8\n",
            "19\n",
            "32\n",
            "49\n",
            "68\n",
            "91\n",
            "120\n",
            "151\n",
            "188\n",
            "229\n",
            "272\n",
            "319\n",
            "368\n",
            "421\n",
            "480\n",
            "541\n",
            "608\n",
            "679\n",
            "752\n",
            "829\n",
            "908\n",
            "991\n",
            "1080\n",
            "1171\n",
            "1268\n"
          ]
        }
      ],
      "source": [
        "Sum = 0\n",
        "for i in range (0,26):\n",
        "  if i%2!=0 and i%3!=0 and i%4!=0 and i%5!=0:\n",
        "    Sum =  Sum+i\n",
        "    print(Sum)"
      ]
    },
    {
      "cell_type": "code",
      "execution_count": null,
      "metadata": {
        "colab": {
          "base_uri": "https://localhost:8080/"
        },
        "id": "abENv0EC-tWW",
        "outputId": "de1ff998-ed36-4050-be39-952f489d5ddf"
      },
      "outputs": [
        {
          "name": "stdout",
          "output_type": "stream",
          "text": [
            "10\n",
            "50\n",
            "70\n"
          ]
        }
      ],
      "source": [
        "for i in range(0,101):\n",
        "  if i%5==0 and i%10==0 and i%15!=0 and i%20!=0:\n",
        "    print(i)"
      ]
    },
    {
      "cell_type": "code",
      "execution_count": null,
      "metadata": {
        "colab": {
          "base_uri": "https://localhost:8080/"
        },
        "id": "sECiF8Hz_alI",
        "outputId": "b974b614-77d6-4123-b913-112bc06b39d0"
      },
      "outputs": [
        {
          "name": "stdout",
          "output_type": "stream",
          "text": [
            "45\n"
          ]
        }
      ],
      "source": [
        "for i in range(40,81):\n",
        "  if i%2!=0 and i%15==0 and i%25!=0:\n",
        "   print(i)"
      ]
    },
    {
      "cell_type": "code",
      "execution_count": null,
      "metadata": {
        "colab": {
          "base_uri": "https://localhost:8080/"
        },
        "id": "NipJ1tBM4X6B",
        "outputId": "ebde96e5-89cc-41dc-fdd3-bf530e73e49a"
      },
      "outputs": [
        {
          "name": "stdout",
          "output_type": "stream",
          "text": [
            "180\n"
          ]
        }
      ],
      "source": [
        "sum = 0\n",
        "for i in range (0,100):\n",
        "  if i%2!=0 and i%3!=0 and i%5!=0:\n",
        "    sum = sum+i\n",
        "print(sum)\n"
      ]
    },
    {
      "cell_type": "code",
      "execution_count": null,
      "metadata": {
        "colab": {
          "base_uri": "https://localhost:8080/"
        },
        "id": "df_Avdu_DugG",
        "outputId": "8a1272b4-8514-433f-fc27-7f46415571c9"
      },
      "outputs": [
        {
          "name": "stdout",
          "output_type": "stream",
          "text": [
            "[1, 2, 3, 4, 5, 3]\n"
          ]
        }
      ],
      "source": [
        "item =[1,2,3,4,5]\n",
        "item.append(3)\n",
        "print(item)"
      ]
    },
    {
      "cell_type": "code",
      "execution_count": null,
      "metadata": {
        "colab": {
          "base_uri": "https://localhost:8080/"
        },
        "id": "6_mZAqsNEong",
        "outputId": "47a6a107-f023-4a35-a0b3-71ef0b7c3e4a"
      },
      "outputs": [
        {
          "name": "stdout",
          "output_type": "stream",
          "text": [
            "[5, 7]\n"
          ]
        }
      ],
      "source": [
        "a= [5,6,7,8]\n",
        "print(a[0:4:2])"
      ]
    },
    {
      "cell_type": "code",
      "execution_count": null,
      "metadata": {
        "colab": {
          "base_uri": "https://localhost:8080/"
        },
        "id": "wOfY_jT6HyMq",
        "outputId": "df3fa9ba-63e3-4734-b816-448433ba4781"
      },
      "outputs": [
        {
          "name": "stdout",
          "output_type": "stream",
          "text": [
            "26\n"
          ]
        }
      ],
      "source": [
        "sum = 0\n",
        "a = [5,6,7,8]\n",
        "for i in a:\n",
        "  sum = sum +i\n",
        "print(sum)"
      ]
    },
    {
      "cell_type": "code",
      "execution_count": null,
      "metadata": {
        "colab": {
          "base_uri": "https://localhost:8080/"
        },
        "id": "53p1iVJjyK8J",
        "outputId": "07bfc841-22af-42a4-c172-0fd7b62eb0e9"
      },
      "outputs": [
        {
          "name": "stdout",
          "output_type": "stream",
          "text": [
            "[1, 2, 3, 4, 3]\n"
          ]
        }
      ],
      "source": [
        "a = [1,2,3,4]\n",
        "a.append(3)\n",
        "print(a)"
      ]
    },
    {
      "cell_type": "code",
      "execution_count": null,
      "metadata": {
        "colab": {
          "base_uri": "https://localhost:8080/"
        },
        "id": "GAaRjsEQyuly",
        "outputId": "bc1b5122-9cd1-474e-d44b-affcd1fa1be3"
      },
      "outputs": [
        {
          "name": "stdout",
          "output_type": "stream",
          "text": [
            "[]\n"
          ]
        }
      ],
      "source": [
        "a= [1,2,3,4,5]\n",
        "print(a[-1:0])"
      ]
    },
    {
      "cell_type": "code",
      "execution_count": null,
      "metadata": {
        "id": "hBZqw4IG3EJY",
        "colab": {
          "base_uri": "https://localhost:8080/"
        },
        "outputId": "e0ab0a8b-a985-4bbe-c310-f12cbe509aed"
      },
      "outputs": [
        {
          "output_type": "stream",
          "name": "stdout",
          "text": [
            "please enter the number of items you want to add in your list : 2\n",
            "please enter the product name : pizza\n",
            "pleasde enter the ammount200\n",
            "please enter the discount10\n",
            "please enter the product name : urger\n",
            "pleasde enter the ammount320\n",
            "please enter the discount10\n",
            "please enter the coupon codeSAVE20\n",
            "374.4\n",
            "['pizza', 'urger']\n",
            "[200, 320]\n",
            "93.6\n",
            "468.0\n",
            "374.4\n"
          ]
        }
      ],
      "source": [
        "\n",
        "item = []\n",
        "ammount=[]\n",
        "discount =[]\n",
        "coupon_lists = [\"SAVE10\", \"SAVE20\", \"SAVE30\"]\n",
        "coupons_discounts = [10,20,30]\n",
        "total_bill = 0\n",
        "grand_total = 0\n",
        "num = int(input(\"please enter the number of items you want to add in your list : \"))\n",
        "for i in range (num):\n",
        "  items = (input(\"please enter the product name : \"))\n",
        "  ammounts = int(input(\"pleasde enter the ammount\"))\n",
        "  discounts = int(input(\"please enter the discount\"))\n",
        "  item.append(items)\n",
        "  ammount.append(ammounts)\n",
        "  discount.append(discounts)\n",
        "  total_bill+=ammounts\n",
        "  dis = total_bill*discounts/100\n",
        "  final_bill = total_bill-dis\n",
        "coupon_code = input(\"please enter the coupon code\")\n",
        "if  coupon_code in coupon_lists:\n",
        "  index = coupon_lists.index(coupon_code)\n",
        "  discount = final_bill*coupons_discounts[index]/100\n",
        "  grand_total = final_bill - discount\n",
        "  print(grand_total)\n",
        "else:\n",
        "   print(\"Final bill\",final_bill)\n",
        "print(item)\n",
        "print(ammount)\n",
        "print(discount)\n",
        "print(final_bill)\n",
        "print(grand_total)\n"
      ]
    },
    {
      "cell_type": "code",
      "execution_count": null,
      "metadata": {
        "colab": {
          "base_uri": "https://localhost:8080/"
        },
        "id": "GdnIDdVc5hc9",
        "outputId": "f922a6b1-aba7-4c28-ad72-eca6006b7493"
      },
      "outputs": [
        {
          "name": "stdout",
          "output_type": "stream",
          "text": [
            "1\n",
            "2\n",
            "3\n",
            "4\n",
            "5\n",
            "6\n",
            "7\n",
            "8\n",
            "9\n",
            "10\n"
          ]
        }
      ],
      "source": [
        "'# while loop\n",
        "  #start\n",
        "  #condition\n",
        "  #increment/decrement\n",
        "i=1\n",
        "while i<=10:\n",
        "  print(i)\n",
        "  i=i+1"
      ]
    },
    {
      "cell_type": "code",
      "execution_count": null,
      "metadata": {
        "colab": {
          "base_uri": "https://localhost:8080/"
        },
        "id": "QrsQzoG-8kIy",
        "outputId": "dd714d69-6b6e-4790-b3ed-2160da8c4e46"
      },
      "outputs": [
        {
          "name": "stdout",
          "output_type": "stream",
          "text": [
            "10 hello\n",
            "9 hello\n",
            "8 hello\n",
            "7 hello\n",
            "6 hello\n",
            "5 hello\n",
            "4 hello\n",
            "3 hello\n",
            "2 hello\n",
            "1 hello\n"
          ]
        }
      ],
      "source": [
        "a=10\n",
        "while a>=1:\n",
        "  print(a , \"hello\")\n",
        "  a=a-1\n",
        "\n"
      ]
    },
    {
      "cell_type": "code",
      "execution_count": null,
      "metadata": {
        "colab": {
          "base_uri": "https://localhost:8080/"
        },
        "id": "UZ95p1Ld_yhy",
        "outputId": "665d5edf-69c9-42d7-c3ee-0f199d60f84d"
      },
      "outputs": [
        {
          "name": "stdout",
          "output_type": "stream",
          "text": [
            "0\n",
            "1\n",
            "2\n"
          ]
        }
      ],
      "source": [
        "\n",
        "\n",
        "i=0\n",
        "while i<=2:\n",
        "  print(i)\n",
        "  i=i+1\n"
      ]
    },
    {
      "cell_type": "code",
      "execution_count": null,
      "metadata": {
        "colab": {
          "base_uri": "https://localhost:8080/"
        },
        "id": "YdtIeOgXGL4f",
        "outputId": "cacdabd0-8f8e-4724-ec01-b0860b4d2a22"
      },
      "outputs": [
        {
          "name": "stdout",
          "output_type": "stream",
          "text": [
            "120\n"
          ]
        }
      ],
      "source": [
        "number = 5\n",
        "i=1\n",
        "fact =1\n",
        "while i<=number:\n",
        "  fact = fact*i\n",
        "  i=i+1\n",
        "\n",
        "print(fact)\n",
        "\n",
        "\n",
        "\n"
      ]
    },
    {
      "cell_type": "code",
      "execution_count": null,
      "metadata": {
        "colab": {
          "base_uri": "https://localhost:8080/"
        },
        "id": "34W1nGA9KsDg",
        "outputId": "aae5ec99-64ba-4bf6-f7fb-f1def6f8a423"
      },
      "outputs": [
        {
          "name": "stdout",
          "output_type": "stream",
          "text": [
            "10\n",
            "20\n",
            "40\n",
            "50\n",
            "70\n",
            "80\n",
            "100\n"
          ]
        }
      ],
      "source": [
        "i=1\n",
        "while i<=100:\n",
        "  if i%5==0 and i%10==0 and i%15!=0:\n",
        "    print(i)\n",
        "\n",
        "\n",
        "  i=i+1\n",
        "\n"
      ]
    },
    {
      "cell_type": "code",
      "execution_count": null,
      "metadata": {
        "colab": {
          "base_uri": "https://localhost:8080/"
        },
        "id": "dXVGfgKgNTvo",
        "outputId": "b33b8df6-15b4-4743-d922-10b437f3a0e3"
      },
      "outputs": [
        {
          "name": "stdout",
          "output_type": "stream",
          "text": [
            "5\n",
            "10\n",
            "15\n",
            "20\n",
            "25\n",
            "30\n",
            "35\n",
            "40\n",
            "45\n",
            "50\n"
          ]
        }
      ],
      "source": [
        "i=1\n",
        "while i<=10:\n",
        "  table = 5*i\n",
        "  i=i+1\n",
        "  print(table)\n",
        "\n",
        "\n"
      ]
    },
    {
      "cell_type": "code",
      "execution_count": null,
      "metadata": {
        "colab": {
          "base_uri": "https://localhost:8080/"
        },
        "id": "fG2LH6tDPhhm",
        "outputId": "cf347da7-09d0-47a4-ef95-5c43cf70e814"
      },
      "outputs": [
        {
          "name": "stdout",
          "output_type": "stream",
          "text": [
            "1268\n"
          ]
        }
      ],
      "source": [
        "i=1\n",
        "num =0\n",
        "while i<=100:\n",
        "  if i%2!=0 and i%3!=0 and i%4!=0 and i%5!=0:\n",
        "    num = num +i\n",
        "\n",
        "\n",
        "  i=i+1\n",
        "\n",
        "print(num)"
      ]
    },
    {
      "cell_type": "code",
      "execution_count": null,
      "metadata": {
        "colab": {
          "base_uri": "https://localhost:8080/"
        },
        "id": "yVcxlE0kYkrP",
        "outputId": "3233a8fb-a657-4a91-d820-223fabcf279d"
      },
      "outputs": [
        {
          "name": "stdout",
          "output_type": "stream",
          "text": [
            "1\n",
            "3\n",
            "5\n",
            "7\n",
            "9\n",
            "11\n",
            "13\n",
            "15\n",
            "17\n",
            "19\n",
            "21\n",
            "23\n",
            "25\n",
            "27\n",
            "29\n",
            "31\n",
            "33\n",
            "35\n",
            "37\n",
            "39\n",
            "41\n",
            "43\n",
            "45\n",
            "47\n",
            "49\n",
            "51\n",
            "53\n",
            "55\n",
            "57\n",
            "59\n",
            "61\n",
            "63\n",
            "65\n",
            "67\n",
            "69\n",
            "71\n",
            "73\n",
            "75\n",
            "77\n",
            "79\n",
            "81\n",
            "83\n",
            "85\n",
            "87\n",
            "89\n",
            "91\n",
            "93\n",
            "95\n",
            "97\n",
            "99\n"
          ]
        }
      ],
      "source": [
        "i=1\n",
        "while i<=100:\n",
        " if i%2!=0:\n",
        "  print(i)\n",
        " i=i+1\n"
      ]
    },
    {
      "cell_type": "code",
      "execution_count": null,
      "metadata": {
        "colab": {
          "base_uri": "https://localhost:8080/"
        },
        "id": "W1WCztSMZWaB",
        "outputId": "d9694eef-8dd4-4056-eb7d-2ab63df61b2d"
      },
      "outputs": [
        {
          "output_type": "stream",
          "name": "stdout",
          "text": [
            "7\n",
            "14\n",
            "21\n",
            "28\n",
            "35\n",
            "42\n",
            "49\n",
            "56\n",
            "63\n",
            "70\n"
          ]
        }
      ],
      "source": [
        "i=1\n",
        "while i<=10:\n",
        "  num = 7*i\n",
        "  i= i+1\n",
        "  print(num)\n",
        "\n"
      ]
    },
    {
      "cell_type": "code",
      "source": [
        "                    # Cosmetics project\n",
        "\n",
        "cosmetics=[]\n",
        "price_of_cosmetics=[]\n",
        "coupons = [\"save10\", \"save20\", \"save30\"]\n",
        "dicount_on_coupons= [10,20,30]\n",
        "sum = 0\n",
        "\n",
        "num = int(input(\"please enter the number of items you want to add in your cart : \"))\n",
        "for i in range(num):\n",
        "  cosm = input(\"please enter the cosmetics : \")\n",
        "  price = int(input(\"please enter the price of cosmetics : \"))\n",
        "  cosmetics.append(cosm)\n",
        "  price_of_cosmetics.append(price)\n",
        "  sum = sum+price\n",
        "coupon = (input(\"please neter the coupon code\"))\n",
        "if coupon in coupons:\n",
        "   index = coupons.index(coupon)\n",
        "   discount = sum*dicount_on_coupons[index]/100\n",
        "   final_price = sum-discount\n",
        "print(\"Cosmetics purchased  :  \" ,cosmetics)\n",
        "print(\"Price of cosmetics purchased  : \" , price_of_cosmetics)\n",
        "print(\"Total price : \" , sum)\n",
        "print(\" coupon discount recieved : \" ,discount)\n",
        "print(\"Grand total after discount : \" ,final_price)"
      ],
      "metadata": {
        "colab": {
          "base_uri": "https://localhost:8080/"
        },
        "id": "ZxTd1dtvLD9k",
        "outputId": "4a9880f2-45c3-442e-c7f0-8f2877ba13d1"
      },
      "execution_count": null,
      "outputs": [
        {
          "output_type": "stream",
          "name": "stdout",
          "text": [
            "please enter the number of items you want to add in your cart : 2\n",
            "please enter the cosmetics : gel\n",
            "please enter the price of cosmetics : 200\n",
            "please enter the cosmetics : mask\n",
            "please enter the price of cosmetics : 50\n",
            "please neter the coupon codesave30\n",
            "Cosmetics purchased  :   ['gel', 'mask']\n",
            "Price of cosmetics purchased  :  [200, 50]\n",
            "Total price :  250\n",
            " coupon discount recieved :  75.0\n",
            "Grand total after discount :  175.0\n"
          ]
        }
      ]
    },
    {
      "cell_type": "code",
      "source": [],
      "metadata": {
        "id": "b1AX8zlbLkrB"
      },
      "execution_count": null,
      "outputs": []
    },
    {
      "cell_type": "code",
      "source": [
        "\n",
        "for i in range(12):\n",
        "  if(i==10):\n",
        "    print(\"loop broen\")\n",
        "    continue\n",
        "  print(\"5 *\",i , \"=\",5*i)"
      ],
      "metadata": {
        "id": "Q04tk02TRe6y",
        "colab": {
          "base_uri": "https://localhost:8080/"
        },
        "outputId": "c4970082-253e-43bc-f93d-ee5c3fbbc6c0"
      },
      "execution_count": null,
      "outputs": [
        {
          "output_type": "stream",
          "name": "stdout",
          "text": [
            "5 * 0 = 0\n",
            "5 * 1 = 5\n",
            "5 * 2 = 10\n",
            "5 * 3 = 15\n",
            "5 * 4 = 20\n",
            "5 * 5 = 25\n",
            "5 * 6 = 30\n",
            "5 * 7 = 35\n",
            "5 * 8 = 40\n",
            "5 * 9 = 45\n",
            "loop broen\n",
            "5 * 11 = 55\n"
          ]
        }
      ]
    },
    {
      "cell_type": "code",
      "source": [
        "i=1\n",
        "while i<=10:\n",
        "  i=i+1\n",
        "  print(i , end = \" \")\n",
        "  if (i==5):\n",
        "    print(\"loop broken\")\n",
        "    continue\n",
        "  else:\n",
        "    print(\"top\")\n",
        "print(\"loop broken\")"
      ],
      "metadata": {
        "colab": {
          "base_uri": "https://localhost:8080/"
        },
        "id": "GqXf7WqqeLXr",
        "outputId": "95c29336-fca7-47af-89b3-16f97eb5d719"
      },
      "execution_count": null,
      "outputs": [
        {
          "output_type": "stream",
          "name": "stdout",
          "text": [
            "2 top\n",
            "3 top\n",
            "4 top\n",
            "5 loop broken\n",
            "6 top\n",
            "7 top\n",
            "8 top\n",
            "9 top\n",
            "10 top\n",
            "11 top\n",
            "loop broken\n"
          ]
        }
      ]
    },
    {
      "cell_type": "code",
      "source": [
        "i=0\n",
        "while True:\n",
        "  print(i)\n",
        "  i=i+1\n",
        "  if i == 5:\n",
        "    break\n",
        "print(\"loop broken\")\n"
      ],
      "metadata": {
        "colab": {
          "base_uri": "https://localhost:8080/"
        },
        "id": "YMlKQ_74kEum",
        "outputId": "7eafb26c-d2f7-4bde-9ca1-cbc26461c621"
      },
      "execution_count": null,
      "outputs": [
        {
          "output_type": "stream",
          "name": "stdout",
          "text": [
            "0\n",
            "1\n",
            "2\n",
            "3\n",
            "4\n",
            "loop broken\n"
          ]
        }
      ]
    },
    {
      "cell_type": "code",
      "source": [
        "                              # string topic\n",
        "# we made an string named apple\n",
        "name = \"gaurav,saurav\"\n",
        "john  = '''hi i am john\n",
        "\"what are you doing\"\n",
        "i want to eat an apple'''\n",
        "#if we have to find the length of the string we use len function\n",
        "#print(len(name))\n",
        "\n",
        "#print(\"hello \"  + name)\n",
        "#print(john)\n",
        "#print(name[0:6])\n",
        "print(\"lets use for loop\\n\")\n",
        "for i in john:\n",
        "  print(i , end = \" \")\n",
        "  #print(i)"
      ],
      "metadata": {
        "colab": {
          "base_uri": "https://localhost:8080/"
        },
        "id": "AhWCKjQWnQ70",
        "outputId": "4a3d7711-844f-4fad-ce30-cb94c39541c3"
      },
      "execution_count": null,
      "outputs": [
        {
          "output_type": "stream",
          "name": "stdout",
          "text": [
            "13\n",
            "lets use for loop\n",
            "\n",
            "h i   i   a m   j o h n \n",
            " \" w h a t   a r e   y o u   d o i n g \" \n",
            " i   w a n t   t o   e a t   a n   a p p l e "
          ]
        }
      ]
    },
    {
      "cell_type": "code",
      "source": [
        "                                       #sports project\n",
        "sports_item=[]\n",
        "price_of_sports_item=[]\n",
        "sum = 0\n",
        "num = int(input(\"please enter the number of items you want to add in your cart : \"))\n",
        "for i in range(num):\n",
        "  sports = input(\"please enter the sports item : \")\n",
        "  price = int(input(\"please enter the price of sports item : \"))\n",
        "  sports_item.append(sports)\n",
        "  price_of_sports_item.append(price)\n",
        "  sum = sum+price\n",
        "  discount = sum*10/100\n",
        "  final_price = sum-discount\n",
        "print(\"Sports item  purchased  :  \" ,sports_item)\n",
        "print(\"Price of sports item purchased  : \" , price_of_sports_item)\n",
        "print(\"Total price : \" , sum)\n",
        "print(\"10% discount recieved : \" ,discount)\n",
        "print(\"Grand total after discount : \" ,final_price)"
      ],
      "metadata": {
        "id": "1c0N8t_Pp5Dd",
        "colab": {
          "base_uri": "https://localhost:8080/"
        },
        "outputId": "00f503f5-aec9-43ff-ada8-948cd1c3b848"
      },
      "execution_count": null,
      "outputs": [
        {
          "output_type": "stream",
          "name": "stdout",
          "text": [
            "please enter the number of items you want to add in your cart : 2\n",
            "please enter the sports item : bat\n",
            "please enter the price of sports item : 500\n",
            "please enter the sports item : ball\n",
            "please enter the price of sports item : 303\n",
            "Sports item  purchased  :   [500, 303]\n",
            "Price of sports item purchased  :  [500, 303]\n",
            "Total price :  803\n",
            "10% discount recieved :  80.3\n",
            "Grand total after discount :  722.7\n"
          ]
        }
      ]
    },
    {
      "cell_type": "code",
      "source": [
        "fruit = \"mango\"\n",
        "length = len(fruit)\n",
        "# python automatically add len[fruit] when we do negative slicing like below\n",
        "# print(fruit[-1:len(fruit)-3])\n",
        "# print(fruit[-3:-1])\n"
      ],
      "metadata": {
        "colab": {
          "base_uri": "https://localhost:8080/"
        },
        "id": "0O1NN3nvHNcr",
        "outputId": "d8fc74b5-4e00-4b73-f692-e4ccc61bb01e"
      },
      "execution_count": 20,
      "outputs": [
        {
          "output_type": "stream",
          "name": "stdout",
          "text": [
            "\n",
            "ng\n"
          ]
        }
      ]
    },
    {
      "cell_type": "code",
      "source": [
        "a = \"!Harry!! !!!!!!!!\"\n",
        "print(len(a))\n",
        "print(a.upper()) # it convert the string into uppercase\n",
        "print(a.lower()) # it convert the string into lowercase\n",
        "print(a.rstrip(\"!\")) # it strips the trailing chracters\n",
        "print(a.replace(\"Harry\", \"gaurav\")) # this replace all the coourance of a string with anothe string\n",
        "print(a.split(\" \")) # this string method split the given string at a specifie instance and return the seprated string as list item\n",
        "heading = \"introduction to a python to\"\n",
        "print(heading.capitalize()) # the capitalize method turn the first chracter into uppercase and convert rest into the lowercase\n",
        "print(heading.center(48)) #the centre method align the string into centre\n",
        "print(a.count(\"r\")) # this method give the number of times the given value has occured within the given string\n",
        "print(a.endswith(\"!\")) # this method check if the strign end with the given value\n",
        "print(a.endswith(\"to\", 11 , 15)) # we can even also check for valure between the string by providing start end end index position\n",
        "print(heading.find(\"to\")) # it searches for fist occurance where it is and give index where it is  , if value not found it wil give -1\n",
        "print(heading.index(\"to\")) # it is same as find method but if the value not found on the string it will give an error\n",
        "b = \"Gaurav11\"\n",
        "print(b.isalnum()) # it will give true only if strign only contain A-Z a-z 0-9\n",
        "print(b.isalpha()) #it will give true only if string only contain A-Z , a-z\n",
        "print(b.islower()) # this method true if all the chracter in the string are in lowercase\n",
        "print(b.isprintable()) # method return true if all the value given in the string are printable\n",
        "c = \" \"\n",
        "print(c.isspace()) # return true if string contain whitespaces\n",
        "print(b.istitle()) # return true  only if first letter of each word in the string is capitalised\n",
        "print(b.isupper()) # return true only if the chracters in the string are all in the uppercase\n",
        "print(b.startswith(\"Gaurav\")) # method check if the string start with the given value\n",
        "print(b.swapcase()) # it convert the upper into lower and loweerr into upper\n",
        "print(heading.title())\n",
        "# strings are immutable means they cant be change , string methods they operate on your existing string and returns a new string"
      ],
      "metadata": {
        "colab": {
          "base_uri": "https://localhost:8080/"
        },
        "id": "qX07RLZiXnIz",
        "outputId": "3ee8e296-163c-4f61-ffd0-9e566dd9d75e"
      },
      "execution_count": 69,
      "outputs": [
        {
          "output_type": "stream",
          "name": "stdout",
          "text": [
            "17\n",
            "!HARRY!! !!!!!!!!\n",
            "!harry!! !!!!!!!!\n",
            "!Harry!! \n",
            "!gaurav!! !!!!!!!!\n",
            "['!Harry!!', '!!!!!!!!']\n",
            "Introduction to a python to\n",
            "          introduction to a python to           \n",
            "2\n",
            "True\n",
            "False\n",
            "13\n",
            "13\n",
            "True\n",
            "False\n",
            "False\n",
            "True\n",
            "True\n",
            "True\n",
            "False\n",
            "True\n",
            "gAURAV11\n",
            "Introduction To A Python To\n"
          ]
        }
      ]
    }
  ],
  "metadata": {
    "colab": {
      "provenance": [],
      "authorship_tag": "ABX9TyPbU9XxLbd0h0Xs3ZvFXe02",
      "include_colab_link": true
    },
    "kernelspec": {
      "display_name": "Python 3",
      "name": "python3"
    },
    "language_info": {
      "name": "python"
    }
  },
  "nbformat": 4,
  "nbformat_minor": 0
}