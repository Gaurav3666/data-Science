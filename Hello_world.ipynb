{
  "nbformat": 4,
  "nbformat_minor": 0,
  "metadata": {
    "colab": {
      "provenance": [],
      "authorship_tag": "ABX9TyMsyQ/jrnfMiaw+LbP6bqwX",
      "include_colab_link": true
    },
    "kernelspec": {
      "name": "python3",
      "display_name": "Python 3"
    },
    "language_info": {
      "name": "python"
    }
  },
  "cells": [
    {
      "cell_type": "markdown",
      "metadata": {
        "id": "view-in-github",
        "colab_type": "text"
      },
      "source": [
        "<a href=\"https://colab.research.google.com/github/Gaurav3666/data-Science/blob/main/Hello_world.ipynb\" target=\"_parent\"><img src=\"https://colab.research.google.com/assets/colab-badge.svg\" alt=\"Open In Colab\"/></a>"
      ]
    },
    {
      "cell_type": "code",
      "execution_count": null,
      "metadata": {
        "colab": {
          "base_uri": "https://localhost:8080/"
        },
        "id": "onNCSXAlwnCv",
        "outputId": "2acdc278-dfe4-488b-8765-1881a7a2d031"
      },
      "outputs": [
        {
          "output_type": "stream",
          "name": "stdout",
          "text": [
            "hello world\n"
          ]
        }
      ],
      "source": [
        "# i have made\n",
        "\"\"\" My name is gaurav\n",
        "i am pursuing data science course\n",
        "i had written my first code\"\"\"\n",
        "# my first code\n",
        "print(\"hello world\")"
      ]
    },
    {
      "cell_type": "code",
      "source": [
        "#NAME\n",
        "print(\"my name is gaurav\")\n",
        "#AGE\n",
        "print(\"i am 19 years old\")"
      ],
      "metadata": {
        "colab": {
          "base_uri": "https://localhost:8080/"
        },
        "id": "PqKCzELQ5MkQ",
        "outputId": "631b8a1a-1cbd-441b-d0e2-38f63e337073"
      },
      "execution_count": null,
      "outputs": [
        {
          "output_type": "stream",
          "name": "stdout",
          "text": [
            "my name is gaurav\n",
            "i am 19 years old\n"
          ]
        }
      ]
    },
    {
      "cell_type": "code",
      "source": [
        "print(\"                                      *  BIO DATA  *                                                 \")\n",
        "\n",
        "\n",
        "\n",
        "print(\"                                   * PERSNOL INFORMATION *                                         \")\n",
        "my_name=\"gaurav\"\n",
        "print(my_name)\n",
        "my_age=\"19\"\n",
        "print(my_age)\n",
        "gender=\"male\"\n",
        "print(gender)\n",
        "nationality=\"nationality-indian\"\n",
        "print(nationality)\n",
        "religion=\"Hindu\"\n",
        "print(religion)\n",
        "language=\"Fluency in - english,hindi\"\n",
        "print(language)\n",
        "blood_group=\"blood group-O+ive\"\n",
        "print(blood_group)\n",
        "father_name=\"father name-arun kumar\"\n",
        "print(father_name)\n",
        "dob=\"dob-04/03/2007\"\n",
        "print(dob)\n",
        "print(\"                                 * EDUCATION QUALIFICATIONS *                                        \")\n",
        "print(\"EDUCATION QUALIFICATION-BCOM\")\n",
        "print(\"CURRENTLY PURSUING-DATA SCIENCE COURSE CBITSS\")\n",
        "print(\"FLUENCY IN - ENGLISH ,HINDI\")\n",
        "print(\"ADDRESS-CHANDIGARH\")\n",
        "print(\"EMAIL ID-gauravtk006@gmail.com\")\n",
        "print(\"CONTACT-6280172709\")"
      ],
      "metadata": {
        "colab": {
          "base_uri": "https://localhost:8080/"
        },
        "id": "bG2IJDqN7cUY",
        "outputId": "cfe5d9b7-2314-4fe2-921e-032f4b74c1fe"
      },
      "execution_count": null,
      "outputs": [
        {
          "output_type": "stream",
          "name": "stdout",
          "text": [
            "                                      *  BIO DATA  *                                                 \n",
            "                                   * PERSNOL INFORMATION *                                         \n",
            "gaurav\n",
            "19\n",
            "male\n",
            "nationality-indian\n",
            "Hindu\n",
            "Fluency in - english,hindi\n",
            "blood group-O+ive\n",
            "father name-arun kumar\n",
            "dob-04/03/2007\n",
            "                                 * EDUCATION QUALIFICATIONS *                                        \n",
            "EDUCATION QUALIFICATION-BCOM\n",
            "CURRENTLY PURSUING-DATA SCIENCE COURSE CBITSS\n",
            "FLUENCY IN - ENGLISH ,HINDI\n",
            "ADDRESS-CHANDIGARH\n",
            "EMAIL ID-gauravtk006@gmail.com\n",
            "CONTACT-6280172709\n"
          ]
        }
      ]
    },
    {
      "cell_type": "code",
      "source": [
        "a=(10)\n",
        "print(\" i am trying to print a \",a)\n",
        "b=(19)\n",
        "print(b)\n",
        "\n"
      ],
      "metadata": {
        "colab": {
          "base_uri": "https://localhost:8080/"
        },
        "id": "dOZvanBcF2Z9",
        "outputId": "390a0f03-83fe-4e99-8051-af2284b2fe21"
      },
      "execution_count": null,
      "outputs": [
        {
          "output_type": "stream",
          "name": "stdout",
          "text": [
            " i am trying to print a  10\n",
            "19\n"
          ]
        }
      ]
    },
    {
      "cell_type": "code",
      "source": [
        "print(\"*************************************************************  Menu List  *********************************************************************************************\")\n",
        "print(\"                Beverages                      \")\n",
        "print(\"Vanilla shake   -     70\")\n",
        "print(\"strawberry shake  -    90\")\n",
        "print(\"Chocklate shake   -    50\")\n",
        "print(\"Oreo shake     -       85\")\n",
        "print(\"Mango shake     -      70\")\n",
        "print(\"banana shake    -      50\")\n",
        "\n",
        "print(\"                                                              Apetizers                                                                                        \")\n",
        "print(\"                                                      Fruit salad   -   160\")\n",
        "print(\"                                                       Sandwich   -   210\")\n",
        "print(\"                                                      French fries   -   160\")\n",
        "print(\"                                                         Nuggets   -   260\")\n",
        "print(\"                                                          Matcha   -   149\")\n",
        "print(\"                                                                                                             Main Course\")\n",
        "print(\"                                                                                                       Chole bhature   -   160\")\n",
        "print(\"                                                                                                     Chicken biryani   -   350\")\n",
        "print(\"                                                                                                        Matar paneer   -   180\")\n",
        "print(\"                                                                                                             Chapati   -   30\")\n",
        "print(\"                                                                                                           Dal makhni  -   140\")"
      ],
      "metadata": {
        "colab": {
          "base_uri": "https://localhost:8080/"
        },
        "id": "PhUM9oujS9gH",
        "outputId": "83623275-e2d5-4e81-bca2-4169e35bf8d6"
      },
      "execution_count": 21,
      "outputs": [
        {
          "output_type": "stream",
          "name": "stdout",
          "text": [
            "*************************************************************  Menu List  *********************************************************************************************\n",
            "                Beverages                      \n",
            "Vanilla shake   -     70\n",
            "strawberry shake  -    90\n",
            "Chocklate shake   -    50\n",
            "Oreo shake     -       85\n",
            "Mango shake     -      70\n",
            "banana shake    -      50\n",
            "                                                              Apetizers                                                                                        \n",
            "                                                      Fruit salad   -   160\n",
            "                                                       Sandwich   -   210\n",
            "                                                      French fries   -   160\n",
            "                                                         Nuggets   -   260\n",
            "                                                          Matcha   -   149\n",
            "                                                                                                             Main Course\n",
            "                                                                                                       Chole bhature   -   160\n",
            "                                                                                                     Chicken biryani   -   350\n",
            "                                                                                                     Matar paneer   -   180\n",
            "                                                                                                        Chapati   -   30\n",
            "                                                                                                         Dal makhni  -   140\n"
          ]
        }
      ]
    }
  ]
}