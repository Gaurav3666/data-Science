{
  "nbformat": 4,
  "nbformat_minor": 0,
  "metadata": {
    "colab": {
      "provenance": [],
      "authorship_tag": "ABX9TyNavUm72ljm1HUagWFv1C7i",
      "include_colab_link": true
    },
    "kernelspec": {
      "name": "python3",
      "display_name": "Python 3"
    },
    "language_info": {
      "name": "python"
    }
  },
  "cells": [
    {
      "cell_type": "markdown",
      "metadata": {
        "id": "view-in-github",
        "colab_type": "text"
      },
      "source": [
        "<a href=\"https://colab.research.google.com/github/Gaurav3666/data-Science/blob/main/Hello_world.ipynb\" target=\"_parent\"><img src=\"https://colab.research.google.com/assets/colab-badge.svg\" alt=\"Open In Colab\"/></a>"
      ]
    },
    {
      "cell_type": "code",
      "execution_count": 6,
      "metadata": {
        "colab": {
          "base_uri": "https://localhost:8080/"
        },
        "id": "onNCSXAlwnCv",
        "outputId": "2acdc278-dfe4-488b-8765-1881a7a2d031"
      },
      "outputs": [
        {
          "output_type": "stream",
          "name": "stdout",
          "text": [
            "hello world\n"
          ]
        }
      ],
      "source": [
        "# i have made\n",
        "\"\"\" My name is gaurav\n",
        "i am pursuing data science course\n",
        "i had written my first code\"\"\"\n",
        "# my first code\n",
        "print(\"hello world\")"
      ]
    },
    {
      "cell_type": "code",
      "source": [
        "#NAME\n",
        "print(\"my name is gaurav\")\n",
        "#AGE\n",
        "print(\"i am 19 years old\")"
      ],
      "metadata": {
        "colab": {
          "base_uri": "https://localhost:8080/"
        },
        "id": "PqKCzELQ5MkQ",
        "outputId": "631b8a1a-1cbd-441b-d0e2-38f63e337073"
      },
      "execution_count": 8,
      "outputs": [
        {
          "output_type": "stream",
          "name": "stdout",
          "text": [
            "my name is gaurav\n",
            "i am 19 years old\n"
          ]
        }
      ]
    },
    {
      "cell_type": "code",
      "source": [
        "print(\"                                      *  BIO DATA  *                                                 \")\n",
        "\n",
        "\n",
        "\n",
        "print(\"                                   * PERSNOL INFORMATION *                                         \")\n",
        "my_name=\"gaurav\"\n",
        "print(my_name)\n",
        "my_age=\"19\"\n",
        "print(my_age)\n",
        "print(\"GENDER-MALE\")\n",
        "print(\"NATIONALITY-INDIAN\")\n",
        "print(\"RELIGION-HINDU\")\n",
        "print(\"LANGUAGE KNOWN-HINDI,ENGLISH\")\n",
        "print(\"BLOOD GROUP-O POSITIVE\")\n",
        "print(\"FATHER NAME-ARUN KUMAR\")\n",
        "print(\"DOB-04-03-2007\")\n",
        "print(\"                                 * EDUCATION QUALIFICATIONS *                                        \")\n",
        "print(\"EDUCATION QUALIFICATION-BCOM\")\n",
        "print(\"CURRENTLY PURSUING-DATA SCIENCE COURSE CBITSS\")\n",
        "print(\"FLUENCY IN - ENGLISH ,HINDI\")\n",
        "print(\"ADDRESS-CHANDIGARH\")\n",
        "print(\"EMAIL ID-gauravtk006@gmail.com\")\n",
        "print(\"CONTACT-6280172709\")"
      ],
      "metadata": {
        "colab": {
          "base_uri": "https://localhost:8080/"
        },
        "id": "bG2IJDqN7cUY",
        "outputId": "1d6e6781-3d00-4a3c-bfe1-27b71014cd09"
      },
      "execution_count": 40,
      "outputs": [
        {
          "output_type": "stream",
          "name": "stdout",
          "text": [
            "                                      *  BIO DATA  *                                                 \n",
            "                                   * PERSNOL INFORMATION *                                         \n",
            "gaurav\n",
            "19\n",
            "GENDER-MALE\n",
            "NATIONALITY-INDIAN\n",
            "RELIGION-HINDU\n",
            "LANGUAGE KNOWN-HINDI,ENGLISH\n",
            "BLOOD GROUP-O POSITIVE\n",
            "FATHER NAME-ARUN KUMAR\n",
            "DOB-04-03-2007\n",
            "                                 * EDUCATION QUALIFICATIONS *                                        \n",
            "EDUCATION QUALIFICATION-BCOM\n",
            "CURRENTLY PURSUING-DATA SCIENCE COURSE CBITSS\n",
            "FLUENCY IN - ENGLISH ,HINDI\n",
            "ADDRESS-CHANDIGARH\n",
            "EMAIL ID-gauravtk006@gmail.com\n",
            "CONTACT-6280172709\n"
          ]
        }
      ]
    },
    {
      "cell_type": "code",
      "source": [
        "a=(10)\n",
        "print(\" i am trying to print a \",a)\n",
        "b=(19)\n",
        "print(b)\n",
        "\n"
      ],
      "metadata": {
        "colab": {
          "base_uri": "https://localhost:8080/"
        },
        "id": "dOZvanBcF2Z9",
        "outputId": "390a0f03-83fe-4e99-8051-af2284b2fe21"
      },
      "execution_count": 32,
      "outputs": [
        {
          "output_type": "stream",
          "name": "stdout",
          "text": [
            " i am trying to print a  10\n",
            "19\n"
          ]
        }
      ]
    }
  ]
}